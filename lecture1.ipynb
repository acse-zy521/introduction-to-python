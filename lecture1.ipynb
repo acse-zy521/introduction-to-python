{
 "cells": [
  {
   "cell_type": "code",
   "execution_count": null,
   "metadata": {
    "execution": {
     "iopub.execute_input": "2021-09-02T14:08:43.327911Z",
     "iopub.status.busy": "2021-09-02T14:08:43.327225Z",
     "iopub.status.idle": "2021-09-02T14:08:43.951136Z",
     "shell.execute_reply": "2021-09-02T14:08:43.950482Z"
    }
   },
   "outputs": [],
   "source": [
    "import pybryt\n",
    "from lecture import ok, pybryt_reference"
   ]
  },
  {
   "cell_type": "markdown",
   "metadata": {
    "slideshow": {
     "slide_type": "slide"
    }
   },
   "source": [
    "# Introduction to programming in Python\n",
    "\n",
    "# Lecture 1: Hello world, conditional expressions, loops, and lists"
   ]
  },
  {
   "cell_type": "markdown",
   "metadata": {
    "slideshow": {
     "slide_type": "slide"
    }
   },
   "source": [
    "## Learning objectives:\n",
    "\n",
    "* You will understand that Python will help you defy gravity.\n",
    "* You will know how to execute Python statements from within Jupyter.\n",
    "* Understand what a variable is and how to express a mathematical expression in code.\n",
    "* Print program outputs.\n",
    "* Access mathematical functions from a Python module.\n",
    "* Be able to write your own *function*.\n",
    "* Know how to form a *condition* using a *boolean expression*.\n",
    "* You will be able to use a conditional expression in combination with a *while-loop* to perform repetitive tasks.\n",
    "* You will learn how to store data elements within a Python *list*.\n",
    "* You will learn to use a *for-loop* to iterate, and perform some task over a *list* of elements."
   ]
  },
  {
   "cell_type": "markdown",
   "metadata": {
    "slideshow": {
     "slide_type": "fragment"
    }
   },
   "source": [
    "```python\n",
    "import antigravity\n",
    "```\n",
    "![import antigravity](https://imgs.xkcd.com/comics/python.png)"
   ]
  },
  {
   "cell_type": "markdown",
   "metadata": {
    "slideshow": {
     "slide_type": "slide"
    }
   },
   "source": [
    "## Programming a mathematical formula\n",
    "\n",
    "Here is a formula for the position of a ball $y(t)$ in vertical motion, starting at ground level (i.e. at $y=0$) at time $t=0$:\n",
    "\n",
    "$$ y(t) = v_0t- \\frac{1}{2}gt^2, $$\n",
    "\n",
    "where:\n",
    "\n",
    "* $y(t)$ is the height (position) as a function of time $t$,\n",
    "* $v_0$ is the initial velocity (at $t=0$), and\n",
    "* $g$ is the acceleration due to gravity.\n",
    "\n",
    "The computational task we want to solve is: given the values of $v_0$, $g$ and $t$, compute the height $y$. "
   ]
  },
  {
   "cell_type": "markdown",
   "metadata": {
    "slideshow": {
     "slide_type": "subslide"
    }
   },
   "source": [
    "**How do we program this task?** A program is a sequence of instructions given to the computer. However, while a programming language is much **simpler** than a natural language, it is more **pedantic**. Programs must have correct syntax, i.e. correct use of the computer language grammar rules, and no misprints.\n",
    "\n",
    "So let us execute a Python statement based on this example to evaluate $y(t) = v_0t- \\frac{1}{2}gt^2$ for $v_0 = 5 \\,\\text{ms}^{-1}$, $g = 9.81 \\,\\text{ms}^{-2}$ and $t = 0.6 \\,\\text{s}$. If you were doing this on paper you would probably write something like this: $$y = 5\\cdot 0.6 - \\frac{1}{2}\\cdot 9.81 \\cdot 0.6^2.$$ Happily, writing this in Python is very similar:"
   ]
  },
  {
   "cell_type": "code",
   "execution_count": 2,
   "metadata": {
    "execution": {
     "iopub.execute_input": "2021-09-02T14:08:43.955658Z",
     "iopub.status.busy": "2021-09-02T14:08:43.955062Z",
     "iopub.status.idle": "2021-09-02T14:08:43.961854Z",
     "shell.execute_reply": "2021-09-02T14:08:43.962303Z"
    },
    "slideshow": {
     "slide_type": "fragment"
    }
   },
   "outputs": [
    {
     "name": "stdout",
     "output_type": "stream",
     "text": [
      "1.2342\n"
     ]
    }
   ],
   "source": [
    "# Comment: This is a 'code' cell within Jupyter notebook.\n",
    "# Press Shift-Enter to execute the code within this kind of\n",
    "# cell, or click 'Run' on the Jupyter toolbar above.\n",
    "\n",
    "print(5*0.6 - 0.5*9.81*0.6**2)"
   ]
  },
  {
   "cell_type": "markdown",
   "metadata": {},
   "source": [
    "You probably noticed that, in the code cell we just wrote, the first few lines start with the hash (`#`) character. In Python, we use `#` to tell Python interpreter to ignore everything in the line that comes after `#`. We call those lines **comments**, and we write them to help us (humans) understand the code. Besides, we used `print` and enclosed our caluclation within parentheses to display the output. We will explain *comments* and *print function* in more details later."
   ]
  },
  {
   "cell_type": "markdown",
   "metadata": {
    "slideshow": {
     "slide_type": "subslide"
    }
   },
   "source": [
    "## Exercise 1.1: Open a code cell and write some code.\n",
    "1. Navigate the [Jupyter](http://jupyter.org/) toolbar to \"Insert\"->\"Insert Cell Below\". Note from the toolbar that you can select a cell to be 'Code' (this is the default), 'Markdown' (the cell you are reading right now is written in [Markdown](https://en.wikipedia.org/wiki/Markdown) - double click this cell to investigate further), and 'Raw' (its content is not evaluated by the notebook).\n",
    "2. Copy&paste the code from the previous code cell into your newly created code cell below. Make sure it runs!\n",
    "3. To see how important it is to use the correct [syntax](https://en.wikipedia.org/wiki/Syntax), replace `**` with `^` in your code and try running the cell again. You should see something like the following:\n",
    "\n",
    "```python\n",
    "---------------------------------------------------------------------------\n",
    "TypeError                                 Traceback (most recent call last)\n",
    "<ipython-input-4-6e110a567f02> in <module>\n",
    "      3 # cell, or click on the 'Run' widget on the Jupyter toolbar above.\n",
    "      4 \n",
    "----> 5 print(5*0.6 - 0.5*9.81*0.6^2)\n",
    "\n",
    "TypeError: unsupported operand type(s) for ^: 'float' and 'int'\n",
    "```\n",
    "4. Undo that change so your code is working again; now change `print` to `write` and see what happens when you run the cell. You should see something like:\n",
    "\n",
    "```python\n",
    "---------------------------------------------------------------------------\n",
    "NameError                                 Traceback (most recent call last)\n",
    "<ipython-input-5-a3da902ceb19> in <module>\n",
    "      3 # cell, or click on the 'Run' widget on the Jupyter toolbar above.\n",
    "      4 \n",
    "----> 5 write(5*0.6 - 0.5*9.81*0.6**2)\n",
    "\n",
    "NameError: name 'write' is not defined\n",
    "```\n",
    "\n",
    "While a human might still understand these statements, they do not mean anything to the Python interpreter. Rather than throwing your hands up in the air whenever you get an error message like the above (you are going to see many during the course of these lectures!!!), train yourself to read error messages carefully to get an idea what it is complaining about, and re-read your code from the perspective of the Python interpreter.\n",
    "\n",
    "Error messages can look bewildering and even frustrating at first, but **it gets much easier with practise**."
   ]
  },
  {
   "cell_type": "markdown",
   "metadata": {
    "slideshow": {
     "slide_type": "slide"
    }
   },
   "source": [
    "## Storing numbers in variables\n",
    "\n",
    "From mathematics, you are already familiar with variables (e.g. $v_0 = 5$, $g = 9.81$, $t = 0.6$, $y = v_0t - \\frac{1}{2}gt^2$), and you already know how important they are for working out complicated problems. Similarly, you can use variables in a program to make it easier to read and understand."
   ]
  },
  {
   "cell_type": "code",
   "execution_count": 3,
   "metadata": {
    "execution": {
     "iopub.execute_input": "2021-09-02T14:08:43.982799Z",
     "iopub.status.busy": "2021-09-02T14:08:43.982163Z",
     "iopub.status.idle": "2021-09-02T14:08:43.988394Z",
     "shell.execute_reply": "2021-09-02T14:08:43.988852Z"
    },
    "slideshow": {
     "slide_type": "subslide"
    }
   },
   "outputs": [
    {
     "name": "stdout",
     "output_type": "stream",
     "text": [
      "1.2342\n"
     ]
    }
   ],
   "source": [
    "v0 = 5\n",
    "g = 9.81\n",
    "t = 0.6\n",
    "y = v0*t - 0.5*g*t**2\n",
    "print(y)"
   ]
  },
  {
   "cell_type": "markdown",
   "metadata": {
    "slideshow": {
     "slide_type": "fragment"
    }
   },
   "source": [
    "This program performs the same calculations as the previous one and gives the same output. However, this program spans several lines and uses variables. \n",
    "\n",
    "We usually use one letter for a variable in mathematics, resorting to using the Greek alphabet and other characters for more clarity. The main reason for this is to avoid becoming exhausted from writing when working out long expressions or derivations. However, when programming, you should use more descriptive names for variables. This might not seem like an important consideration for the trivial example here. Still, it becomes increasingly important as the program gets more complicated and if someone else has to read your code."
   ]
  },
  {
   "cell_type": "markdown",
   "metadata": {
    "slideshow": {
     "slide_type": "slide"
    }
   },
   "source": [
    "### Good variable names make a program easier to understand!\n",
    "\n",
    "Permitted variable names include:\n",
    "\n",
    "* one-letter symbols,\n",
    "* words or abbreviation of words, and\n",
    "* variable names can contain lowercase `a-z`, uppercase `A-Z`, underscore (`_`), and digits `0-9`, **but** the name cannot start with a digit or contain a whitespace.\n",
    "\n",
    "Variable names are case-sensitive (i.e. `a` is different from `A`). Let us rewrite the previous example using more descriptive variable names:"
   ]
  },
  {
   "cell_type": "code",
   "execution_count": 4,
   "metadata": {
    "execution": {
     "iopub.execute_input": "2021-09-02T14:08:43.993172Z",
     "iopub.status.busy": "2021-09-02T14:08:43.992594Z",
     "iopub.status.idle": "2021-09-02T14:08:43.997740Z",
     "shell.execute_reply": "2021-09-02T14:08:43.998219Z"
    },
    "slideshow": {
     "slide_type": "fragment"
    }
   },
   "outputs": [
    {
     "name": "stdout",
     "output_type": "stream",
     "text": [
      "1.2342\n"
     ]
    }
   ],
   "source": [
    "initial_velocity = 5\n",
    "acceleration_of_gravity = 9.81\n",
    "TIME = 0.6\n",
    "VerticalPositionOfBall = initial_velocity*TIME - 0.5*acceleration_of_gravity*TIME**2\n",
    "print(VerticalPositionOfBall)"
   ]
  },
  {
   "cell_type": "markdown",
   "metadata": {
    "slideshow": {
     "slide_type": "subslide"
    }
   },
   "source": [
    "Certain words have a **special meaning** in Python and **cannot be used as variable names**. We refer to them as **keywords**, and they are:\n",
    "\n",
    "`and`, `as`, `assert`, `async`, `await`, `break`, `class`, `continue`, `def`, `del`, `elif`, `else`, `except`, `finally`, `for`, `from`, `global`, `if`, `import`, `in`, `is`, `lambda`, `nonlocal`, `not`, `or`, `pass`, `raise`, `return`, `try`, `while`, `with`, and `yield`. \n",
    "\n",
    "Similarly, `True`, `False`, and `None` are keywords we use for the values of variables, and we cannot use them for variable names. Keywords are very important in programming and, in these lectures, we will learn how to use them."
   ]
  },
  {
   "cell_type": "markdown",
   "metadata": {
    "slideshow": {
     "slide_type": "slide"
    }
   },
   "source": [
    "## Adding comments to code\n",
    "\n",
    "Not everything written in a computer program is intended for execution. In Python, anything on a line after the `#` character is ignored and is known as a **comment**. You can write whatever you want in a comment. Comments are intended to be used to explain what a snippet of code is intended for. It might, for example, explain the objective or provide a reference to the data or algorithm used. This is useful for you when you have to understand your code at some later stage, and indeed for whoever has to read and understand your code later."
   ]
  },
  {
   "cell_type": "code",
   "execution_count": 5,
   "metadata": {
    "execution": {
     "iopub.execute_input": "2021-09-02T14:08:44.004343Z",
     "iopub.status.busy": "2021-09-02T14:08:44.003216Z",
     "iopub.status.idle": "2021-09-02T14:08:44.007876Z",
     "shell.execute_reply": "2021-09-02T14:08:44.006693Z"
    },
    "slideshow": {
     "slide_type": "fragment"
    }
   },
   "outputs": [
    {
     "name": "stdout",
     "output_type": "stream",
     "text": [
      "1.2342\n"
     ]
    }
   ],
   "source": [
    "# Program for computing the height of a ball in vertical motion.\n",
    "v0 = 5    # Set initial velocity in m/s.\n",
    "g = 9.81  # Set acceleration due to gravity in m/s^2.\n",
    "t = 0.6   # Time at which we want to know the height of the ball in seconds.\n",
    "y = v0*t - 0.5*g*t**2  # Calculate the vertical position.\n",
    "print(y)"
   ]
  },
  {
   "cell_type": "markdown",
   "metadata": {
    "slideshow": {
     "slide_type": "slide"
    }
   },
   "source": [
    "## Exercise 1.2: Convert from meters to British length units\n",
    "\n",
    "Here in the UK, we are famous for our love of performing mental arithmetic. That is why we still use both imperial and metric measurement systems - hours of fun entertainment for the family switching back and forth between the two.\n",
    "\n",
    "Make a program where you set a length given in meters and then compute and write out the corresponding length measured in:\n",
    "* inches (one inch is 2.54 cm)\n",
    "* feet (one foot is 12 inches)\n",
    "* yards (one foot is 12 inches, one yard is 3 feet)\n",
    "* miles (one British mile is 1760 yards)\n",
    "\n",
    "**Note**: In this course, we are using [okpy](https://okpy.org/) and [pybryt](https://microsoft.github.io/pybryt/html/index.html) for automated assessment scoring. Therefore, while it is generally important to always carefully follow the instructions of a question, it is particularly important here so that *okpy* and *pybryt* can recognise the validity of your answer.\n",
    "\n",
    "*Uncomment* and modify the relevant lines in the following code cell. The conversion to inches is done for you to illustrate what is required."
   ]
  },
  {
   "cell_type": "code",
   "execution_count": 6,
   "metadata": {
    "execution": {
     "iopub.execute_input": "2021-09-02T14:08:44.012570Z",
     "iopub.status.busy": "2021-09-02T14:08:44.011190Z",
     "iopub.status.idle": "2021-09-02T14:08:44.013203Z",
     "shell.execute_reply": "2021-09-02T14:08:44.013672Z"
    }
   },
   "outputs": [],
   "source": [
    "meters = 640\n",
    "\n",
    "# 1 inch = 2.54 cm. Remember to convert from 2.54 cm to 0.0254 m here.\n",
    "inches = meters/0.0254\n",
    "\n",
    "# Uncomment and complete the following code. Do not change variable ames for testing.\n",
    "feet = inches/12\n",
    "\n",
    "yards = feet/3\n",
    "\n",
    "miles = yards/1760"
   ]
  },
  {
   "cell_type": "code",
   "execution_count": 7,
   "metadata": {
    "execution": {
     "iopub.execute_input": "2021-09-02T14:08:44.029034Z",
     "iopub.status.busy": "2021-09-02T14:08:44.028456Z",
     "iopub.status.idle": "2021-09-02T14:08:44.038423Z",
     "shell.execute_reply": "2021-09-02T14:08:44.037927Z"
    },
    "tags": [
     "pybryt"
    ]
   },
   "outputs": [
    {
     "name": "stdout",
     "output_type": "stream",
     "text": [
      "REFERENCE: exercise-1_2\n",
      "SATISFIED: True\n",
      "MESSAGES:\n",
      "  - SUCCESS: Your conversion to feet is correct. Well done!\n",
      "  - SUCCESS: Your calculation of yards is correct. Amazing!\n",
      "  - SUCCESS: Wow! Your conversion to miles is correct.\n"
     ]
    }
   ],
   "source": [
    "with pybryt.check(pybryt_reference(1, 2)):\n",
    "    feet, yards, miles"
   ]
  },
  {
   "cell_type": "code",
   "execution_count": 8,
   "metadata": {
    "execution": {
     "iopub.execute_input": "2021-09-02T14:08:44.042227Z",
     "iopub.status.busy": "2021-09-02T14:08:44.041660Z",
     "iopub.status.idle": "2021-09-02T14:08:44.069275Z",
     "shell.execute_reply": "2021-09-02T14:08:44.067972Z"
    },
    "tags": [
     "okpy"
    ]
   },
   "outputs": [
    {
     "name": "stdout",
     "output_type": "stream",
     "text": [
      "~~~~~~~~~~~~~~~~~~~~~~~~~~~~~~~~~~~~~~~~~~~~~~~~~~~~~~~~~~~~~~~~~~~~~\n",
      "Running tests\n",
      "\n",
      "---------------------------------------------------------------------\n",
      "Test summary\n",
      "    Passed: 3\n",
      "    Failed: 0\n",
      "[ooooooooook] 100.0% passed\n",
      "\n"
     ]
    }
   ],
   "source": [
    "grade = ok.grade('exercise-1_2')"
   ]
  },
  {
   "cell_type": "markdown",
   "metadata": {
    "slideshow": {
     "slide_type": "slide"
    }
   },
   "source": [
    "## Formatted printing style\n",
    "\n",
    "Often we want to print out results using a combination of text and numbers, e.g. \"At t=0.6 s, y is 1.23 m\". Particularly when printing out floating-point numbers, we should **never** quote numbers to a higher accuracy than they were measured. Python provides a *printf formatting* syntax exactly for this purpose. We can see in the following example where the *slot* `%g` expresses the floating-point number with the minimum number of significant figures, and the *slot* `%.2f` specifies that only two digits are printed out after the decimal point."
   ]
  },
  {
   "cell_type": "code",
   "execution_count": 9,
   "metadata": {
    "execution": {
     "iopub.execute_input": "2021-09-02T14:08:44.080805Z",
     "iopub.status.busy": "2021-09-02T14:08:44.080191Z",
     "iopub.status.idle": "2021-09-02T14:08:44.084664Z",
     "shell.execute_reply": "2021-09-02T14:08:44.084110Z"
    },
    "slideshow": {
     "slide_type": "fragment"
    }
   },
   "outputs": [
    {
     "name": "stdout",
     "output_type": "stream",
     "text": [
      "At t=0.6 s, y is 1.23 m.\n"
     ]
    }
   ],
   "source": [
    "print(\"At t=%g s, y is %.2f m.\" % (t, y))"
   ]
  },
  {
   "cell_type": "markdown",
   "metadata": {
    "slideshow": {
     "slide_type": "fragment"
    }
   },
   "source": [
    "Notice in this example how the values in the tuple `(t, y)` are inserted into the *slots* (`%g` and `%.2f`)."
   ]
  },
  {
   "cell_type": "markdown",
   "metadata": {
    "slideshow": {
     "slide_type": "subslide"
    }
   },
   "source": [
    "Sometimes we want a multi-line output. This is achieved using a triple quotation, i.e. `\"\"\"`:"
   ]
  },
  {
   "cell_type": "code",
   "execution_count": 10,
   "metadata": {
    "execution": {
     "iopub.execute_input": "2021-09-02T14:08:44.088513Z",
     "iopub.status.busy": "2021-09-02T14:08:44.087902Z",
     "iopub.status.idle": "2021-09-02T14:08:44.092152Z",
     "shell.execute_reply": "2021-09-02T14:08:44.092760Z"
    },
    "slideshow": {
     "slide_type": "fragment"
    }
   },
   "outputs": [
    {
     "name": "stdout",
     "output_type": "stream",
     "text": [
      "At t=0.600000 s, a ball with\n",
      "initial velocity v0=5.000E+00 m/s\n",
      "is located at the height y=1.23 m.\n",
      "\n"
     ]
    }
   ],
   "source": [
    "print(\"\"\"At t=%f s, a ball with\n",
    "initial velocity v0=%.3E m/s\n",
    "is located at the height y=%.2f m.\n",
    "\"\"\" % (t, v0, y))"
   ]
  },
  {
   "cell_type": "markdown",
   "metadata": {},
   "source": [
    "Notice in this example we used `%f`, `%.3E`, and `%.2f` to define slots, into which we inserted the values of `t`, `v0`, and `y` respectively. You can find more details about the format specification mini-language in the Python [documentation](https://docs.python.org/3/library/string.html#format-specification-mini-language)."
   ]
  },
  {
   "cell_type": "markdown",
   "metadata": {},
   "source": [
    "Instead of using the `%` operator for formatted printing, Python offers another two syntax alternatives: string's `format` method and f-strings. Let us have a look at how we can print \"At t=0.6 s, y is 1.23 m\" using these two alternative solutions."
   ]
  },
  {
   "cell_type": "code",
   "execution_count": 11,
   "metadata": {
    "execution": {
     "iopub.execute_input": "2021-09-02T14:08:44.096036Z",
     "iopub.status.busy": "2021-09-02T14:08:44.094803Z",
     "iopub.status.idle": "2021-09-02T14:08:44.099737Z",
     "shell.execute_reply": "2021-09-02T14:08:44.099258Z"
    }
   },
   "outputs": [
    {
     "name": "stdout",
     "output_type": "stream",
     "text": [
      "At t=0.6 s, y is 1.23 m.\n"
     ]
    }
   ],
   "source": [
    "print(\"At t={:g} s, y is {:.2f} m.\".format(t, y))  # string's format method"
   ]
  },
  {
   "cell_type": "code",
   "execution_count": 12,
   "metadata": {
    "execution": {
     "iopub.execute_input": "2021-09-02T14:08:44.103472Z",
     "iopub.status.busy": "2021-09-02T14:08:44.102896Z",
     "iopub.status.idle": "2021-09-02T14:08:44.109757Z",
     "shell.execute_reply": "2021-09-02T14:08:44.109251Z"
    }
   },
   "outputs": [
    {
     "name": "stdout",
     "output_type": "stream",
     "text": [
      "At t=0.6 s, y is 1.23 m.\n"
     ]
    }
   ],
   "source": [
    "print(f\"At t={t:g} s, y is {y:.2f} m.\")  # f-string method - string literal begins with an f"
   ]
  },
  {
   "cell_type": "markdown",
   "metadata": {},
   "source": [
    "Notice that we defined slots in a string using curly braces `{}` where we also specified the formatting style in the same way we did before, but this time using `:` instead of `%`. We inserted the values into the slots by passing them to the `format()` method or by writing them in curly braces."
   ]
  },
  {
   "cell_type": "markdown",
   "metadata": {
    "slideshow": {
     "slide_type": "slide"
    }
   },
   "source": [
    "## Exercise 1.3: Compute the air resistance on a football\n",
    "\n",
    "The drag force, due to air resistance, on an object can be expressed as\n",
    "$$F_d = \\frac{1}{2}C_D\\rho Av^2$$\n",
    "where:\n",
    "* $\\rho$ is the density of the air,\n",
    "* $v$ is the velocity of the object,\n",
    "* $A$ is the cross-sectional area (perpendicular to the velocity direction),\n",
    "* and $C_D$ is the drag coefficient, which depends on the shape of the object and the roughness of the surface.\n",
    "\n",
    "Complete **and correct** the following code that computes the drag force."
   ]
  },
  {
   "cell_type": "code",
   "execution_count": 13,
   "metadata": {
    "execution": {
     "iopub.execute_input": "2021-09-02T14:08:44.114248Z",
     "iopub.status.busy": "2021-09-02T14:08:44.113659Z",
     "iopub.status.idle": "2021-09-02T14:08:44.116895Z",
     "shell.execute_reply": "2021-09-02T14:08:44.117362Z"
    }
   },
   "outputs": [],
   "source": [
    "# Import pi (3.14159...) from Python's math library\n",
    "from math import pi\n",
    "\n",
    "density = 1.2       # units of kg/m**3\n",
    "ball_radius = 0.11  # units of m\n",
    "A = pi * ball_radius**2  # Cross sectional area of a sphere\n",
    "C_D = 0.2           # Drag coefficient\n",
    "\n",
    "v = 50.8            # m/s (fastest recorded speed of football)\n",
    "\n",
    "# Uncomment and complete the following line.\n",
    "F_d = 1/2 * C_D * density * A * v**2\n",
    "\n",
    "# Challenge yourself to use the formatted print statement\n",
    "# shown above to write out the force with one decimal in\n",
    "# units of Newton (1 N = 1 kgm/s^2)."
   ]
  },
  {
   "cell_type": "code",
   "execution_count": 14,
   "metadata": {
    "execution": {
     "iopub.execute_input": "2021-09-02T14:08:44.131846Z",
     "iopub.status.busy": "2021-09-02T14:08:44.130854Z",
     "iopub.status.idle": "2021-09-02T14:08:44.138945Z",
     "shell.execute_reply": "2021-09-02T14:08:44.138444Z"
    },
    "tags": [
     "pybryt"
    ]
   },
   "outputs": [
    {
     "name": "stdout",
     "output_type": "stream",
     "text": [
      "REFERENCE: exercise-1_3\n",
      "SATISFIED: True\n",
      "MESSAGES:\n",
      "  - SUCCESS: Computed cross-sectional area is correct. Great!\n",
      "  - SUCCESS: Your calculation of the drag force is correct.\n"
     ]
    }
   ],
   "source": [
    "with pybryt.check(pybryt_reference(1, 3)):\n",
    "    A, F_d"
   ]
  },
  {
   "cell_type": "code",
   "execution_count": 15,
   "metadata": {
    "execution": {
     "iopub.execute_input": "2021-09-02T14:08:44.145856Z",
     "iopub.status.busy": "2021-09-02T14:08:44.145278Z",
     "iopub.status.idle": "2021-09-02T14:08:44.164170Z",
     "shell.execute_reply": "2021-09-02T14:08:44.161643Z"
    },
    "tags": [
     "okpy"
    ]
   },
   "outputs": [
    {
     "name": "stdout",
     "output_type": "stream",
     "text": [
      "~~~~~~~~~~~~~~~~~~~~~~~~~~~~~~~~~~~~~~~~~~~~~~~~~~~~~~~~~~~~~~~~~~~~~\n",
      "Running tests\n",
      "\n",
      "---------------------------------------------------------------------\n",
      "Test summary\n",
      "    Passed: 1\n",
      "    Failed: 0\n",
      "[ooooooooook] 100.0% passed\n",
      "\n"
     ]
    }
   ],
   "source": [
    "grade = ok.grade('exercise-1_3')"
   ]
  },
  {
   "cell_type": "markdown",
   "metadata": {
    "slideshow": {
     "slide_type": "slide"
    }
   },
   "source": [
    "## How are arithmetic expressions evaluated?\n",
    "Consider the random mathematical expression, ${5\\over9} + 2a^4/2$, implemented in Python as `5.0/9 + 2*a**4/2`. The rules for evaluating the expression are the same as in mathematics: proceed term by term (additions/subtractions) from the left, compute powers first, then multiplication and division. Therefore in this example the order of evaluation will be:\n",
    "\n",
    "1. `r1 = 5.0/9`\n",
    "2. `r2 = a**4`\n",
    "3. `r3 = 2*r2`\n",
    "4. `r4 = r3/2`\n",
    "5. `r5 = r1 + r4`\n",
    "\n",
    "We use parenthesis to override these default rules. Indeed, many programmers use parenthesis for greater clarity."
   ]
  },
  {
   "cell_type": "markdown",
   "metadata": {
    "slideshow": {
     "slide_type": "slide"
    }
   },
   "source": [
    "## Exercise 1.4: Compute the growth of money in a bank\n",
    "\n",
    "Let $p$ be a bank's annual interest rate in per cent. After $n$ years, an initial amount $A_0$ has then grown to\n",
    "\n",
    "$$A_n = A_0\\left(1+\\frac{p}{100}\\right)^n.$$\n",
    "\n",
    "Write a program for computing how much money 1000 euros have grown to after three years with a 5% annual interest rate."
   ]
  },
  {
   "cell_type": "code",
   "execution_count": 16,
   "metadata": {
    "execution": {
     "iopub.execute_input": "2021-09-02T14:08:44.175193Z",
     "iopub.status.busy": "2021-09-02T14:08:44.174634Z",
     "iopub.status.idle": "2021-09-02T14:08:44.177784Z",
     "shell.execute_reply": "2021-09-02T14:08:44.178502Z"
    }
   },
   "outputs": [
    {
     "name": "stdout",
     "output_type": "stream",
     "text": [
      "The amount of money in the account after 3 years is: 1157.63 euros\n"
     ]
    }
   ],
   "source": [
    "# Uncomment and complete the code below (don't change variable names!)\n",
    "n = 3\n",
    "p = 5\n",
    "A_0 = 1000\n",
    "\n",
    "A_n = A_0 * (1 + p/100)**3\n",
    "\n",
    "print(\"The amount of money in the account after %d years is: %.2f euros\" % (n, A_n))\n"
   ]
  },
  {
   "cell_type": "code",
   "execution_count": 17,
   "metadata": {
    "execution": {
     "iopub.execute_input": "2021-09-02T14:08:44.192766Z",
     "iopub.status.busy": "2021-09-02T14:08:44.190714Z",
     "iopub.status.idle": "2021-09-02T14:08:44.200209Z",
     "shell.execute_reply": "2021-09-02T14:08:44.200754Z"
    },
    "tags": [
     "pybryt"
    ]
   },
   "outputs": [
    {
     "name": "stdout",
     "output_type": "stream",
     "text": [
      "REFERENCE: exercise-1_4\n",
      "SATISFIED: True\n",
      "MESSAGES:\n",
      "  - SUCCESS: You set the value of the annual interest rate (p) correctly.\n",
      "  - SUCCESS: You set the value of the initial amount (A_0) correctly.\n",
      "  - SUCCESS: You set the number of years (n) correctly.\n",
      "  - SUCCESS: Amazing! Your final solution (A_n) is correct.\n"
     ]
    }
   ],
   "source": [
    "with pybryt.check(pybryt_reference(1, 4)):\n",
    "    p, A_0, n, A_n"
   ]
  },
  {
   "cell_type": "code",
   "execution_count": 18,
   "metadata": {
    "execution": {
     "iopub.execute_input": "2021-09-02T14:08:44.206975Z",
     "iopub.status.busy": "2021-09-02T14:08:44.202653Z",
     "iopub.status.idle": "2021-09-02T14:08:44.225497Z",
     "shell.execute_reply": "2021-09-02T14:08:44.221395Z"
    },
    "tags": [
     "okpy"
    ]
   },
   "outputs": [
    {
     "name": "stdout",
     "output_type": "stream",
     "text": [
      "~~~~~~~~~~~~~~~~~~~~~~~~~~~~~~~~~~~~~~~~~~~~~~~~~~~~~~~~~~~~~~~~~~~~~\n",
      "Running tests\n",
      "\n",
      "---------------------------------------------------------------------\n",
      "Test summary\n",
      "    Passed: 1\n",
      "    Failed: 0\n",
      "[ooooooooook] 100.0% passed\n",
      "\n"
     ]
    }
   ],
   "source": [
    "grade = ok.grade('exercise-1_4')"
   ]
  },
  {
   "cell_type": "markdown",
   "metadata": {
    "slideshow": {
     "slide_type": "slide"
    }
   },
   "source": [
    "## Standard mathematical functions\n",
    "\n",
    "What if we need to compute $\\sin x$, $\\cos x$, $\\ln x$, $e^x$ etc., in a program? Such functions are available in Python's `math` module. In fact, there is a vast universe of functionality for Python available in modules. We just *import* in whatever we need for the task at hand.\n",
    "\n",
    "In this example, we compute $\\sqrt{2}$ using the `sqrt` function from the `math` module:"
   ]
  },
  {
   "cell_type": "code",
   "execution_count": 19,
   "metadata": {
    "execution": {
     "iopub.execute_input": "2021-09-02T14:08:44.236630Z",
     "iopub.status.busy": "2021-09-02T14:08:44.235922Z",
     "iopub.status.idle": "2021-09-02T14:08:44.240080Z",
     "shell.execute_reply": "2021-09-02T14:08:44.239304Z"
    },
    "slideshow": {
     "slide_type": "fragment"
    }
   },
   "outputs": [
    {
     "name": "stdout",
     "output_type": "stream",
     "text": [
      "1.4142135623730951\n"
     ]
    }
   ],
   "source": [
    "import math\n",
    "\n",
    "# Since we imported library (import math),\n",
    "# we access the sqrt function using math.sqrt.\n",
    "r = math.sqrt(2)\n",
    "print(r)"
   ]
  },
  {
   "cell_type": "markdown",
   "metadata": {
    "slideshow": {
     "slide_type": "subslide"
    }
   },
   "source": [
    "or:"
   ]
  },
  {
   "cell_type": "code",
   "execution_count": 20,
   "metadata": {
    "execution": {
     "iopub.execute_input": "2021-09-02T14:08:44.244874Z",
     "iopub.status.busy": "2021-09-02T14:08:44.244250Z",
     "iopub.status.idle": "2021-09-02T14:08:44.248471Z",
     "shell.execute_reply": "2021-09-02T14:08:44.247805Z"
    },
    "slideshow": {
     "slide_type": "fragment"
    }
   },
   "outputs": [
    {
     "name": "stdout",
     "output_type": "stream",
     "text": [
      "1.4142135623730951\n"
     ]
    }
   ],
   "source": [
    "from math import sqrt\n",
    "\n",
    "# This time, we did not import the entire library -\n",
    "# we imported only sqrt function.\n",
    "# Therefore, we can use it directly.\n",
    "r = sqrt(2)\n",
    "print(r)"
   ]
  },
  {
   "cell_type": "markdown",
   "metadata": {
    "slideshow": {
     "slide_type": "subslide"
    }
   },
   "source": [
    "Let us now have a look at a more complicated expression, such as $\\sin x \\cos x + 4\\ln x$:"
   ]
  },
  {
   "cell_type": "code",
   "execution_count": 21,
   "metadata": {
    "execution": {
     "iopub.execute_input": "2021-09-02T14:08:44.253046Z",
     "iopub.status.busy": "2021-09-02T14:08:44.251857Z",
     "iopub.status.idle": "2021-09-02T14:08:44.259729Z",
     "shell.execute_reply": "2021-09-02T14:08:44.258136Z"
    },
    "slideshow": {
     "slide_type": "fragment"
    }
   },
   "outputs": [
    {
     "name": "stdout",
     "output_type": "stream",
     "text": [
      "1.0670178174513938\n"
     ]
    }
   ],
   "source": [
    "from math import sin, cos, log\n",
    "\n",
    "x = 1.2\n",
    "print(sin(x)*cos(x) + 4*log(x))   # log is ln (base e)"
   ]
  },
  {
   "cell_type": "markdown",
   "metadata": {
    "slideshow": {
     "slide_type": "slide"
    }
   },
   "source": [
    "## Exercise 1.5: Evaluate a Gaussian function\n",
    "\n",
    "The bell-shaped Gaussian function,\n",
    "\n",
    "$$f(x)=\\frac{1}{\\sqrt{2\\pi}s}\\exp\\left(-\\frac{1}{2} \\left(\\frac{x-m}{s}\\right)^2\\right)$$\n",
    "\n",
    "is one of the most widely used functions in science and engineering. The parameters $m$ and $s$ are real numbers, and $s$ must be greater than zero. Write a program for evaluating the Gaussian function when $m = 0$, $s = 2$, and $x = 1$."
   ]
  },
  {
   "cell_type": "code",
   "execution_count": 23,
   "metadata": {
    "execution": {
     "iopub.execute_input": "2021-09-02T14:08:44.263464Z",
     "iopub.status.busy": "2021-09-02T14:08:44.262698Z",
     "iopub.status.idle": "2021-09-02T14:08:44.267406Z",
     "shell.execute_reply": "2021-09-02T14:08:44.266896Z"
    }
   },
   "outputs": [],
   "source": [
    "# Uncomment and complete the code below (don't change variable names!)\n",
    "\n",
    "from math import pi, sqrt, e\n",
    "\n",
    "x=1\n",
    "s=2\n",
    "m=0\n",
    "\n",
    "f_x = (1/(sqrt(2 * pi) * s)) * e**(-1/2 * ((x-m)/s)**2 )"
   ]
  },
  {
   "cell_type": "code",
   "execution_count": 24,
   "metadata": {
    "execution": {
     "iopub.execute_input": "2021-09-02T14:08:44.277243Z",
     "iopub.status.busy": "2021-09-02T14:08:44.276622Z",
     "iopub.status.idle": "2021-09-02T14:08:44.283822Z",
     "shell.execute_reply": "2021-09-02T14:08:44.283327Z"
    },
    "tags": [
     "pybryt"
    ]
   },
   "outputs": [
    {
     "name": "stdout",
     "output_type": "stream",
     "text": [
      "REFERENCE: exercise-1_5\n",
      "SATISFIED: True\n",
      "MESSAGES:\n",
      "  - SUCCESS: Great! You computed the value of the Gaussian function correctly.\n"
     ]
    }
   ],
   "source": [
    "with pybryt.check(pybryt_reference(1, 5)):\n",
    "    f_x"
   ]
  },
  {
   "cell_type": "code",
   "execution_count": 25,
   "metadata": {
    "execution": {
     "iopub.execute_input": "2021-09-02T14:08:44.291614Z",
     "iopub.status.busy": "2021-09-02T14:08:44.291038Z",
     "iopub.status.idle": "2021-09-02T14:08:44.312805Z",
     "shell.execute_reply": "2021-09-02T14:08:44.312175Z"
    },
    "tags": [
     "okpy"
    ]
   },
   "outputs": [
    {
     "name": "stdout",
     "output_type": "stream",
     "text": [
      "~~~~~~~~~~~~~~~~~~~~~~~~~~~~~~~~~~~~~~~~~~~~~~~~~~~~~~~~~~~~~~~~~~~~~\n",
      "Running tests\n",
      "\n",
      "---------------------------------------------------------------------\n",
      "Test summary\n",
      "    Passed: 1\n",
      "    Failed: 0\n",
      "[ooooooooook] 100.0% passed\n",
      "\n"
     ]
    }
   ],
   "source": [
    "grade = ok.grade('exercise-1_5')"
   ]
  },
  {
   "cell_type": "markdown",
   "metadata": {
    "slideshow": {
     "slide_type": "slide"
    }
   },
   "source": [
    "## Exercise 1.6: Find and fix errors in the coding of a formula\n",
    "\n",
    "Roots of a quadratic equation $ax^2 + bx + c = 0$ are:\n",
    "\n",
    "$$x_1 = \\frac{−b + \\sqrt{b^2 −4ac}}{2a},$$\n",
    "and\n",
    "$$x_2 = \\frac{−b − \\sqrt{b^2 −4ac}}{2a}.$$\n",
    "\n",
    "Uncomment and fix the errors in the following code."
   ]
  },
  {
   "cell_type": "code",
   "execution_count": 27,
   "metadata": {
    "execution": {
     "iopub.execute_input": "2021-09-02T14:08:44.323397Z",
     "iopub.status.busy": "2021-09-02T14:08:44.322564Z",
     "iopub.status.idle": "2021-09-02T14:08:44.326870Z",
     "shell.execute_reply": "2021-09-02T14:08:44.326354Z"
    }
   },
   "outputs": [],
   "source": [
    "# from math import sqrt\n",
    "\n",
    "a = 2\n",
    "b = 1\n",
    "c = -2\n",
    "\n",
    "q = sqrt(b*b - 4*a*c)\n",
    "x1 = (-b + q)/(2*a)\n",
    "x2 = (-b - q)/(2*a)"
   ]
  },
  {
   "cell_type": "code",
   "execution_count": 28,
   "metadata": {
    "execution": {
     "iopub.execute_input": "2021-09-02T14:08:44.341845Z",
     "iopub.status.busy": "2021-09-02T14:08:44.341070Z",
     "iopub.status.idle": "2021-09-02T14:08:44.348849Z",
     "shell.execute_reply": "2021-09-02T14:08:44.349357Z"
    },
    "tags": [
     "pybryt"
    ]
   },
   "outputs": [
    {
     "name": "stdout",
     "output_type": "stream",
     "text": [
      "REFERENCE: exercise-1_6\n",
      "SATISFIED: True\n",
      "MESSAGES:\n",
      "  - SUCCESS: You compute the square root of the discriminant (q) correctly.\n",
      "  - SUCCESS: Root x1 of a quadratic equation is correct.\n",
      "  - SUCCESS: Root x2 of a quadratic equation is correct.\n"
     ]
    }
   ],
   "source": [
    "with pybryt.check(pybryt_reference(1, 6)):\n",
    "    q, x1, x2"
   ]
  },
  {
   "cell_type": "code",
   "execution_count": 29,
   "metadata": {
    "execution": {
     "iopub.execute_input": "2021-09-02T14:08:44.356395Z",
     "iopub.status.busy": "2021-09-02T14:08:44.351790Z",
     "iopub.status.idle": "2021-09-02T14:08:44.376709Z",
     "shell.execute_reply": "2021-09-02T14:08:44.373451Z"
    },
    "tags": [
     "okpy"
    ]
   },
   "outputs": [
    {
     "name": "stdout",
     "output_type": "stream",
     "text": [
      "~~~~~~~~~~~~~~~~~~~~~~~~~~~~~~~~~~~~~~~~~~~~~~~~~~~~~~~~~~~~~~~~~~~~~\n",
      "Running tests\n",
      "\n",
      "---------------------------------------------------------------------\n",
      "Test summary\n",
      "    Passed: 3\n",
      "    Failed: 0\n",
      "[ooooooooook] 100.0% passed\n",
      "\n"
     ]
    }
   ],
   "source": [
    "grade = ok.grade('exercise-1_6')"
   ]
  },
  {
   "cell_type": "markdown",
   "metadata": {},
   "source": [
    "## Functions\n",
    "\n",
    "We have already used Python functions above, e.g. `sqrt` from the `math` module. In general, a function is a collection of statements we can execute wherever and whenever we want. For example, consider any of the formulae we implemented above. \n",
    "\n",
    "Functions can take any number of inputs (called *arguments*) to produce outputs. Functions help to organise programs, make them more understandable, shorter, and easier to extend. Wouldn't it be nice to implement it just once and then be able to use it again any time you need it, rather than having to write out the whole formula again?\n",
    "\n",
    "For our first example, we will reuse the formula for the position of a ball in a vertical motion, which we have seen earlier."
   ]
  },
  {
   "cell_type": "code",
   "execution_count": 30,
   "metadata": {
    "execution": {
     "iopub.execute_input": "2021-09-02T14:08:44.389366Z",
     "iopub.status.busy": "2021-09-02T14:08:44.388789Z",
     "iopub.status.idle": "2021-09-02T14:08:44.392453Z",
     "shell.execute_reply": "2021-09-02T14:08:44.391929Z"
    }
   },
   "outputs": [],
   "source": [
    "def ball_height(v0, t, g=9.81):\n",
    "    \"\"\"Function to calculate and return height of the ball in vertical motion.\n",
    "\n",
    "    Parameters\n",
    "    ----------\n",
    "    v0 : float\n",
    "         Initial velocity (units, m/s).\n",
    "    t : float\n",
    "        Time at which we want to know the height of the ball (units, seconds).\n",
    "    g : float, optional\n",
    "        Acceleration due to gravity (units, m/s^2). By default 9.81 m/s^2.\n",
    "\n",
    "    Returns\n",
    "    -------\n",
    "    float\n",
    "        Height of ball in meters.\n",
    "\n",
    "    \"\"\"\n",
    "    height = v0*t - 0.5*g*t**2\n",
    "\n",
    "    return height"
   ]
  },
  {
   "cell_type": "markdown",
   "metadata": {},
   "source": [
    "Let us break this example down:\n",
    "* Function *header*:\n",
    "    * Functions start with `def` followed by the name we want to give the function (`ball_height` in this case).\n",
    "    * Following the name, we have parentheses followed by a colon `(...):` containing some number of function *arguments*.\n",
    "    * In this case, `v0` and `t` are *positional arguments*, while `g` is known as a *keyword argument* (more about this later).\n",
    "* Function *body*:\n",
    "    * The first thing to notice is that the body of the function is indented one level. All code that is indented with respect to `def`-line belongs to a function.\n",
    "    * Best practice is to include a [docstring](https://sphinxcontrib-napoleon.readthedocs.io/en/latest/example_numpy.html) to explain to others (or remind our future self) how to use the function.\n",
    "    * The function output is passed back via the `return` statement.\n",
    " \n",
    "Notice that this just defines the function. Nothing is executed until we actually *call* the function:"
   ]
  },
  {
   "cell_type": "code",
   "execution_count": 31,
   "metadata": {
    "execution": {
     "iopub.execute_input": "2021-09-02T14:08:44.396832Z",
     "iopub.status.busy": "2021-09-02T14:08:44.396116Z",
     "iopub.status.idle": "2021-09-02T14:08:44.401746Z",
     "shell.execute_reply": "2021-09-02T14:08:44.401218Z"
    }
   },
   "outputs": [
    {
     "name": "stdout",
     "output_type": "stream",
     "text": [
      "Ball height: 1.2342 meters.\n"
     ]
    }
   ],
   "source": [
    "# We pass 5 and 0.6 to v0 and t, respectively.\n",
    "# The value function returns (height) is put in variable h.\n",
    "h = ball_height(5, 0.6)\n",
    "\n",
    "print(\"Ball height: %g meters.\" % h)"
   ]
  },
  {
   "cell_type": "markdown",
   "metadata": {},
   "source": [
    "No return value implies that `None` is returned. `None` is a special Python object that represents an ”empty” or undefined value. It is surprisingly useful, and we will use it a lot later.\n",
    "\n",
    "Functions can also return multiple values. Let us extend the previous example to calculate the ball's velocity as well as its height:"
   ]
  },
  {
   "cell_type": "code",
   "execution_count": 32,
   "metadata": {
    "execution": {
     "iopub.execute_input": "2021-09-02T14:08:44.413604Z",
     "iopub.status.busy": "2021-09-02T14:08:44.413006Z",
     "iopub.status.idle": "2021-09-02T14:08:44.423778Z",
     "shell.execute_reply": "2021-09-02T14:08:44.423206Z"
    }
   },
   "outputs": [
    {
     "name": "stdout",
     "output_type": "stream",
     "text": [
      "Ball height: 1.2342 meters.\n",
      "Ball velocity: -0.886 m/s.\n"
     ]
    }
   ],
   "source": [
    "def ball_height_velocity(v0, t, g=9.81):\n",
    "    \"\"\"Function to calculate ball's height and its velocity.\n",
    "\n",
    "    Parameters\n",
    "    ----------\n",
    "    v0 : float\n",
    "         Initial velocity (units, m/s).\n",
    "    t : float\n",
    "        Time at which we want to know the height of the ball (units, seconds).\n",
    "    g : float, optional\n",
    "        Acceleration due to gravity (units, m/s^2). By default 9.81 m/s^2.\n",
    "\n",
    "    Returns\n",
    "    -------\n",
    "    float\n",
    "        Height of ball in meters.\n",
    "    float\n",
    "        Velocity of ball in m/s.\n",
    "\n",
    "    \"\"\"\n",
    "    height = v0*t - 0.5*g*t**2\n",
    "    velocity = v0 - g*t\n",
    "\n",
    "    return height, velocity\n",
    "\n",
    "\n",
    "# We pass 5 and 0.6 to v0 and t, respectively.\n",
    "# The first value function returns (height) is put into variable h,\n",
    "# whereas the second one (velocity) is placed in v.\n",
    "h, v = ball_height_velocity(5, 0.6)\n",
    "\n",
    "print(\"Ball height: %g meters.\" % h)\n",
    "print(\"Ball velocity: %g m/s.\" % v)"
   ]
  },
  {
   "cell_type": "markdown",
   "metadata": {},
   "source": [
    "## Scope: Local and global variables\n",
    "\n",
    "Variables defined within a function are said to have *local scope*. That is to say that we can only reference them within that function. Consider the example function defined above where we used the *local* variable *height*. You can see that if you try to print the variable height outside the function, you will get an error.\n",
    "\n",
    "```python\n",
    "print(height)\n",
    "\n",
    "---------------------------------------------------------------------------\n",
    "NameError                                 Traceback (most recent call last)\n",
    "<ipython-input-50-aa6406a13920> in <module>\n",
    "----> 1 print(height)\n",
    "\n",
    "NameError: name 'height' is not defined\n",
    "```"
   ]
  },
  {
   "cell_type": "markdown",
   "metadata": {},
   "source": [
    "## Keyword arguments and default input values\n",
    "\n",
    "Besides *positional arguments*, functions can have arguments of the form `argument_name=value` and they are called *keyword arguments*:"
   ]
  },
  {
   "cell_type": "code",
   "execution_count": 33,
   "metadata": {
    "execution": {
     "iopub.execute_input": "2021-09-02T14:08:44.428106Z",
     "iopub.status.busy": "2021-09-02T14:08:44.427522Z",
     "iopub.status.idle": "2021-09-02T14:08:44.434521Z",
     "shell.execute_reply": "2021-09-02T14:08:44.434013Z"
    }
   },
   "outputs": [
    {
     "name": "stdout",
     "output_type": "stream",
     "text": [
      "arg1: Hello, arg2: [1, 2], kwarg1: True, kwarg2: 0\n"
     ]
    }
   ],
   "source": [
    "def somefunc(arg1, arg2, kwarg1=True, kwarg2=0):\n",
    "    print(f'arg1: {arg1}, arg2: {arg2}, kwarg1: {kwarg1}, kwarg2: {kwarg2}')\n",
    "\n",
    "\n",
    "# Note that we have not specified inputs for kwarg1 and kwarg2.\n",
    "somefunc(\"Hello\", [1, 2])"
   ]
  },
  {
   "cell_type": "code",
   "execution_count": 34,
   "metadata": {
    "execution": {
     "iopub.execute_input": "2021-09-02T14:08:44.438749Z",
     "iopub.status.busy": "2021-09-02T14:08:44.438140Z",
     "iopub.status.idle": "2021-09-02T14:08:44.444723Z",
     "shell.execute_reply": "2021-09-02T14:08:44.445178Z"
    }
   },
   "outputs": [
    {
     "name": "stdout",
     "output_type": "stream",
     "text": [
      "arg1: Hello, arg2: [1, 2], kwarg1: Hi, kwarg2: 0\n"
     ]
    }
   ],
   "source": [
    "# Note that we replace the default value for kwarg1.\n",
    "somefunc(\"Hello\", [1, 2], kwarg1=\"Hi\")"
   ]
  },
  {
   "cell_type": "code",
   "execution_count": 35,
   "metadata": {
    "execution": {
     "iopub.execute_input": "2021-09-02T14:08:44.449441Z",
     "iopub.status.busy": "2021-09-02T14:08:44.448863Z",
     "iopub.status.idle": "2021-09-02T14:08:44.454167Z",
     "shell.execute_reply": "2021-09-02T14:08:44.454686Z"
    }
   },
   "outputs": [
    {
     "name": "stdout",
     "output_type": "stream",
     "text": [
      "arg1: Hello, arg2: [1, 2], kwarg1: True, kwarg2: Hi\n"
     ]
    }
   ],
   "source": [
    "# Note that we replace the default value for kwarg2.\n",
    "somefunc(\"Hello\", [1, 2], kwarg2=\"Hi\")"
   ]
  },
  {
   "cell_type": "code",
   "execution_count": 36,
   "metadata": {
    "execution": {
     "iopub.execute_input": "2021-09-02T14:08:44.458923Z",
     "iopub.status.busy": "2021-09-02T14:08:44.458308Z",
     "iopub.status.idle": "2021-09-02T14:08:44.466631Z",
     "shell.execute_reply": "2021-09-02T14:08:44.466093Z"
    }
   },
   "outputs": [
    {
     "name": "stdout",
     "output_type": "stream",
     "text": [
      "arg1: Hello, arg2: [1, 2], kwarg1: 6, kwarg2: Hi\n"
     ]
    }
   ],
   "source": [
    "# Here, we replace both default values for keyword arguments kwarg1 and kwarg2.\n",
    "somefunc(\"Hello\", [1, 2], kwarg2=\"Hi\", kwarg1=6)"
   ]
  },
  {
   "cell_type": "markdown",
   "metadata": {},
   "source": [
    "If we use `argument_name=value` for all arguments, their sequence in the function call can be in any order."
   ]
  },
  {
   "cell_type": "code",
   "execution_count": 37,
   "metadata": {
    "execution": {
     "iopub.execute_input": "2021-09-02T14:08:44.472475Z",
     "iopub.status.busy": "2021-09-02T14:08:44.471373Z",
     "iopub.status.idle": "2021-09-02T14:08:44.475319Z",
     "shell.execute_reply": "2021-09-02T14:08:44.474789Z"
    }
   },
   "outputs": [
    {
     "name": "stdout",
     "output_type": "stream",
     "text": [
      "arg1: Hi, arg2: [2], kwarg1: 6, kwarg2: Hello\n"
     ]
    }
   ],
   "source": [
    "somefunc(kwarg2=\"Hello\", arg1=\"Hi\", kwarg1=6, arg2=[2])"
   ]
  },
  {
   "cell_type": "markdown",
   "metadata": {},
   "source": [
    "## Exercise 1.7: Implement a Gaussian function\n",
    "\n",
    "Write a Python function to compute the Gaussian function:\n",
    "\n",
    "$$f(x)=\\frac{1}{s\\sqrt{2\\pi}}\\exp\\left(-\\frac{1}{2} \\left(\\frac{x-m}{s}\\right)^2\\right)$$"
   ]
  },
  {
   "cell_type": "code",
   "execution_count": 38,
   "metadata": {
    "execution": {
     "iopub.execute_input": "2021-09-02T14:08:44.479630Z",
     "iopub.status.busy": "2021-09-02T14:08:44.478282Z",
     "iopub.status.idle": "2021-09-02T14:08:44.480264Z",
     "shell.execute_reply": "2021-09-02T14:08:44.480776Z"
    }
   },
   "outputs": [],
   "source": [
    "# Uncomment and complete this code - keep the names the same for testing purposes.\n",
    "\n",
    "def gaussian(x, m=0, s=1):\n",
    "    f_x = (1/(sqrt(2 * pi) * s)) * e**(-1/2 * ((x-m)/s)**2 )\n",
    "    return f_x\n"
   ]
  },
  {
   "cell_type": "code",
   "execution_count": 39,
   "metadata": {
    "execution": {
     "iopub.execute_input": "2021-09-02T14:08:44.490641Z",
     "iopub.status.busy": "2021-09-02T14:08:44.489230Z",
     "iopub.status.idle": "2021-09-02T14:08:44.498032Z",
     "shell.execute_reply": "2021-09-02T14:08:44.498510Z"
    },
    "tags": [
     "pybryt"
    ]
   },
   "outputs": [
    {
     "name": "stdout",
     "output_type": "stream",
     "text": [
      "REFERENCE: exercise-1_7\n",
      "SATISFIED: True\n",
      "MESSAGES:\n",
      "  - SUCCESS: Your implementation of Gaussian functon is correct. Well done!\n"
     ]
    }
   ],
   "source": [
    "with pybryt.check(pybryt_reference(1, 7)):\n",
    "    gaussian(0.5)"
   ]
  },
  {
   "cell_type": "code",
   "execution_count": 40,
   "metadata": {
    "execution": {
     "iopub.execute_input": "2021-09-02T14:08:44.505089Z",
     "iopub.status.busy": "2021-09-02T14:08:44.500493Z",
     "iopub.status.idle": "2021-09-02T14:08:44.549046Z",
     "shell.execute_reply": "2021-09-02T14:08:44.549605Z"
    },
    "tags": [
     "okpy"
    ]
   },
   "outputs": [
    {
     "name": "stdout",
     "output_type": "stream",
     "text": [
      "~~~~~~~~~~~~~~~~~~~~~~~~~~~~~~~~~~~~~~~~~~~~~~~~~~~~~~~~~~~~~~~~~~~~~\n",
      "Running tests\n",
      "\n",
      "---------------------------------------------------------------------\n",
      "Test summary\n",
      "    Passed: 11\n",
      "    Failed: 0\n",
      "[ooooooooook] 100.0% passed\n",
      "\n"
     ]
    },
    {
     "data": {
      "text/plain": [
       "{'passed': 11, 'failed': 0, 'locked': 0}"
      ]
     },
     "execution_count": 40,
     "metadata": {},
     "output_type": "execute_result"
    }
   ],
   "source": [
    "ok.grade('exercise-1_7')"
   ]
  },
  {
   "cell_type": "markdown",
   "metadata": {},
   "source": [
    "## Exercise 1.8: How to cook the perfect egg\n",
    "\n",
    "You just started University and moved away from home. You're trying to impress your new flatmates by cooking brunch. Write a Python script to help you cook the perfect egg! \n",
    "\n",
    "You know from A-levels that, when the temperature exceeds a critical point, the proteins in the egg first denature and then coagulate. The process becomes faster as the temperature increases. In the egg white, the proteins start to coagulate for temperatures above 63$^\\circ$C, while in the yolk the proteins start to coagulate for temperatures above 70$^\\circ$C. \n",
    "\n",
    "The time $t$ (in seconds) it takes for the centre of the yolk to reach the temperature $T_y$ (in degrees Celsius) can be expressed as: \n",
    "\n",
    "$$t = \\frac{M^{2/3}c \\rho^{1/3}}{K \\pi^2 (4 \\pi /3)^{2/3} } ln \\left[0.76 \\frac{T_0-T_w}{T_y-T_w}\\right]$$\n",
    "\n",
    "where:\n",
    "* $M$ is the mass of the egg;\n",
    "* $\\rho$ is the density;\n",
    "* $c$ is the specific heat capacity;\n",
    "* $K$ is thermal conductivity;\n",
    "* $T_w$ temperature of the boiling water (in $^\\circ$C);\n",
    "* $T_0$ is the initial temeprature of the egg (in $^\\circ$C), before being put in the water.\n",
    "\n",
    "Write a function that returns the time $t$ needed for the egg to cook, knowing that $T_w = 100^\\circ\\text{C}$, $M = 50\\,\\text{g}$, $\\rho = 1.038\\,\\text{gcm}^{−3}$, $c = 3.7\\,\\text{Jg}^{−1}\\text{K}^{−1}$, and $K = 5.4 \\cdot 10^{−3}\\,\\text{Wcm}^{−1}\\text{K}^{−1}$. Find $t$ for an egg taken from the fridge ($T_0 = 4^\\circ\\text{C}$) and for one at room temperature ($T_0 = 20^\\circ\\text{C}$). $T_y = 70^\\circ\\text{C}$ for a perfect soft-boiled egg.\n",
    "\n",
    "**Hint**: You do not need to do any unit conversion. "
   ]
  },
  {
   "cell_type": "code",
   "execution_count": 42,
   "metadata": {
    "execution": {
     "iopub.execute_input": "2021-09-02T14:08:44.564882Z",
     "iopub.status.busy": "2021-09-02T14:08:44.563451Z",
     "iopub.status.idle": "2021-09-02T14:08:44.565516Z",
     "shell.execute_reply": "2021-09-02T14:08:44.566024Z"
    }
   },
   "outputs": [],
   "source": [
    "# Uncomment and complete this code - keep the names the same for testing purposes.\n",
    "\n",
    "from math import pi, log, e\n",
    "\n",
    "def perfect_egg(T0, M=50, rho=1.038, Tw=100, c=3.7, K=5.4e-3, Ty=70):\n",
    "    t = ((M**(2/3) * c * rho**(1/3)) / (K * pi**2 * (4*pi/3)**(2/3))) * log(0.76 * ((T0 - Tw)/(Ty - Tw)),e)\n",
    "    return t"
   ]
  },
  {
   "cell_type": "code",
   "execution_count": 43,
   "metadata": {
    "execution": {
     "iopub.execute_input": "2021-09-02T14:08:44.579173Z",
     "iopub.status.busy": "2021-09-02T14:08:44.578598Z",
     "iopub.status.idle": "2021-09-02T14:08:44.589271Z",
     "shell.execute_reply": "2021-09-02T14:08:44.588751Z"
    },
    "tags": [
     "pybryt"
    ]
   },
   "outputs": [
    {
     "name": "stdout",
     "output_type": "stream",
     "text": [
      "REFERENCE: exercise-1_8\n",
      "SATISFIED: True\n",
      "MESSAGES:\n",
      "  - SUCCESS: Your function computes correct time for an egg at the fridge temperature to be perfectly cooked. Well done!\n",
      "  - SUCCESS: The time for an egg at the room temperature to be perfectly cooked is correct. Well done!\n"
     ]
    }
   ],
   "source": [
    "with pybryt.check(pybryt_reference(1, 8)):\n",
    "    perfect_egg(T0=4, M=50, rho=1.038, Tw=100, c=3.7, K=5.4e-3, Ty=70)\n",
    "    perfect_egg(T0=20, M=50, rho=1.038, Tw=100, c=3.7, K=5.4e-3, Ty=70)"
   ]
  },
  {
   "cell_type": "code",
   "execution_count": 44,
   "metadata": {
    "execution": {
     "iopub.execute_input": "2021-09-02T14:08:44.596481Z",
     "iopub.status.busy": "2021-09-02T14:08:44.595849Z",
     "iopub.status.idle": "2021-09-02T14:08:44.615739Z",
     "shell.execute_reply": "2021-09-02T14:08:44.615071Z"
    },
    "tags": [
     "okpy"
    ]
   },
   "outputs": [
    {
     "name": "stdout",
     "output_type": "stream",
     "text": [
      "~~~~~~~~~~~~~~~~~~~~~~~~~~~~~~~~~~~~~~~~~~~~~~~~~~~~~~~~~~~~~~~~~~~~~\n",
      "Running tests\n",
      "\n",
      "---------------------------------------------------------------------\n",
      "Test summary\n",
      "    Passed: 1\n",
      "    Failed: 0\n",
      "[ooooooooook] 100.0% passed\n",
      "\n"
     ]
    },
    {
     "data": {
      "text/plain": [
       "{'passed': 1, 'failed': 0, 'locked': 0}"
      ]
     },
     "execution_count": 44,
     "metadata": {},
     "output_type": "execute_result"
    }
   ],
   "source": [
    "ok.grade('exercise-1_8')"
   ]
  },
  {
   "cell_type": "markdown",
   "metadata": {},
   "source": [
    "## Exercise 1.9: Kepler's third law\n",
    "\n",
    "You were selected to be the next astronaut to go to Mars. Congratulations! \n",
    "\n",
    "Kepler's third law expresses the relationship between the distance of planets from the Sun, $a$, and their orbital periods, $P$:\n",
    "\n",
    "$$ P^2 = \\frac{4\\pi^2}{G(M + m)}a^3  $$\n",
    "\n",
    "where\n",
    "* $P$ is the period (in seconds);\n",
    "* $G$ is the gravitational constant ($G = 6.67 \\cdot 10^{-11} \\,\\text{m}^3\\text{kg}^{-1}\\text{s}^{-2}$);\n",
    "* $M$ is the mass of the Sun ($M = 2 \\cdot 10^{30} \\text{kg}$);\n",
    "* $m$ is the mass of the planet (in kg);\n",
    "* $a$ is the distance between the planet and the Sun (in m).\n",
    "\n",
    "How many Earth birthdays will you celebrate during your 10-years Mars mission? Write a Python function `period` that calculates the period of a planet. Using `period` function, calculate the period of the Earth, `P_earth`, and the period of Mars, `P_mars`. Finally, calculate `birthdays` which is how many Earth years are equivalent to 10 years on Mars.\n",
    "\n",
    "We know that:\n",
    "* The average distance between the Earth and the Sun is $a = 1.5 \\cdot 10^{11} \\,\\text{m}$;\n",
    "* The average distance between Mars and the Sun is 0.5 larger than the Earth-Sun distance;\n",
    "* The mass of the Earth is $m_1 = 6 \\cdot 10^{24} \\,\\text{kg}$;\n",
    "* Mars's mass is about 10% of the Earth's mass.\n",
    "\n",
    "**Hint**: You do not need to do any unit conversion. "
   ]
  },
  {
   "cell_type": "code",
   "execution_count": 46,
   "metadata": {
    "execution": {
     "iopub.execute_input": "2021-09-02T14:08:44.647528Z",
     "iopub.status.busy": "2021-09-02T14:08:44.646938Z",
     "iopub.status.idle": "2021-09-02T14:08:44.650731Z",
     "shell.execute_reply": "2021-09-02T14:08:44.651291Z"
    }
   },
   "outputs": [],
   "source": [
    "# Uncomment and complete this code - keep the names the same for testing purposes.\n",
    "\n",
    "from math import pi, sqrt\n",
    "\n",
    "\n",
    "def period(a, m_planet, m_sun=2e30, G=6.67e-11):\n",
    "    P = sqrt(((4 * pi**2)/(G*(m_sun + m_planet))) * a**3)\n",
    "    return P\n",
    "\n",
    "\n",
    "P_earth = period(1.5e11, 6e24)\n",
    "\n",
    "P_mars = period(1.5 * 1.5e11, 0.1 * 6e24)\n",
    "\n",
    "birthdays = (P_mars/ P_earth) * 10"
   ]
  },
  {
   "cell_type": "code",
   "execution_count": 47,
   "metadata": {
    "execution": {
     "iopub.execute_input": "2021-09-02T14:08:44.667071Z",
     "iopub.status.busy": "2021-09-02T14:08:44.666073Z",
     "iopub.status.idle": "2021-09-02T14:08:44.676823Z",
     "shell.execute_reply": "2021-09-02T14:08:44.677300Z"
    },
    "tags": [
     "pybryt"
    ]
   },
   "outputs": [
    {
     "name": "stdout",
     "output_type": "stream",
     "text": [
      "REFERENCE: exercise-1_9\n",
      "SATISFIED: True\n",
      "MESSAGES:\n",
      "  - SUCCESS: Your function computes the period correctly.\n",
      "  - SUCCESS: You computed the Earth's period correctly.\n",
      "  - SUCCESS: You computed Mars's period correctly.\n",
      "  - SUCCESS: Wow! Your computed birthdays value is correct!\n"
     ]
    }
   ],
   "source": [
    "with pybryt.check(pybryt_reference(1, 9)):\n",
    "    period(a=1e11, m_planet=1e24), P_mars, P_earth, birthdays"
   ]
  },
  {
   "cell_type": "code",
   "execution_count": 48,
   "metadata": {
    "execution": {
     "iopub.execute_input": "2021-09-02T14:08:44.680857Z",
     "iopub.status.busy": "2021-09-02T14:08:44.680252Z",
     "iopub.status.idle": "2021-09-02T14:08:44.698973Z",
     "shell.execute_reply": "2021-09-02T14:08:44.698280Z"
    },
    "tags": [
     "okpy"
    ]
   },
   "outputs": [
    {
     "name": "stdout",
     "output_type": "stream",
     "text": [
      "~~~~~~~~~~~~~~~~~~~~~~~~~~~~~~~~~~~~~~~~~~~~~~~~~~~~~~~~~~~~~~~~~~~~~\n",
      "Running tests\n",
      "\n",
      "---------------------------------------------------------------------\n",
      "Test summary\n",
      "    Passed: 1\n",
      "    Failed: 0\n",
      "[ooooooooook] 100.0% passed\n",
      "\n"
     ]
    },
    {
     "data": {
      "text/plain": [
       "{'passed': 1, 'failed': 0, 'locked': 0}"
      ]
     },
     "execution_count": 48,
     "metadata": {},
     "output_type": "execute_result"
    }
   ],
   "source": [
    "ok.grade('exercise-1_9')"
   ]
  },
  {
   "cell_type": "markdown",
   "metadata": {
    "slideshow": {
     "slide_type": "slide"
    }
   },
   "source": [
    "## Boolean expressions\n",
    "\n",
    "An expression with value `True` or `False` is called a boolean expression. Example expressions for what you would write mathematically as\n",
    "$C = 40$, $C \\ne 40$, $C \\ge 40$, $C \\gt 40$ and $C \\lt 40$ are:\n",
    "\n",
    "```python\n",
    "C == 40  # Note: the double == checks for equality!\n",
    "C != 40  # This could also be written as 'not C == 4'\n",
    "C >= 40\n",
    "C > 40\n",
    "C < 40\n",
    "```"
   ]
  },
  {
   "cell_type": "markdown",
   "metadata": {
    "slideshow": {
     "slide_type": "subslide"
    }
   },
   "source": [
    "Let us now test some boolean expressions:"
   ]
  },
  {
   "cell_type": "code",
   "execution_count": 49,
   "metadata": {
    "execution": {
     "iopub.execute_input": "2021-09-02T14:08:44.711503Z",
     "iopub.status.busy": "2021-09-02T14:08:44.710930Z",
     "iopub.status.idle": "2021-09-02T14:08:44.728544Z",
     "shell.execute_reply": "2021-09-02T14:08:44.729447Z"
    },
    "slideshow": {
     "slide_type": "fragment"
    }
   },
   "outputs": [
    {
     "name": "stdout",
     "output_type": "stream",
     "text": [
      "C != 40:  True\n",
      "C < 40:  False\n",
      "C == 41:  True\n"
     ]
    }
   ],
   "source": [
    "C = 41\n",
    "\n",
    "print(\"C != 40: \", C != 40)\n",
    "print(\"C < 40: \", C < 40)\n",
    "print(\"C == 41: \", C == 41)"
   ]
  },
  {
   "cell_type": "markdown",
   "metadata": {
    "slideshow": {
     "slide_type": "subslide"
    }
   },
   "source": [
    "Several conditions can be combined with keywords `and` and `or` into a single boolean expression:\n",
    "\n",
    "* **Rule 1**: (`C1 and C2`) is `True` only if both `C1` and `C2` are `True`.\n",
    "* **Rule 2**: (`C1 or C2`) is `True` if either `C1` or `C2` are `True`.\n",
    "\n",
    "Examples:"
   ]
  },
  {
   "cell_type": "code",
   "execution_count": 50,
   "metadata": {
    "execution": {
     "iopub.execute_input": "2021-09-02T14:08:44.737330Z",
     "iopub.status.busy": "2021-09-02T14:08:44.736722Z",
     "iopub.status.idle": "2021-09-02T14:08:44.747668Z",
     "shell.execute_reply": "2021-09-02T14:08:44.747153Z"
    },
    "slideshow": {
     "slide_type": "fragment"
    }
   },
   "outputs": [
    {
     "name": "stdout",
     "output_type": "stream",
     "text": [
      "x >= 0 and y < 1: False\n",
      "x >= 0 or y < 1: True\n"
     ]
    }
   ],
   "source": [
    "x = 0\n",
    "y = 1.2\n",
    "\n",
    "print('x >= 0 and y < 1:', x >= 0 and y < 1)\n",
    "print('x >= 0 or y < 1:', x >= 0 or y < 1)"
   ]
  },
  {
   "cell_type": "markdown",
   "metadata": {
    "slideshow": {
     "slide_type": "slide"
    }
   },
   "source": [
    "## Exercise 1.10: Values of boolean expressions\n",
    "Add a comment to the code below to explain the outcome of each of the boolean expressions:"
   ]
  },
  {
   "cell_type": "code",
   "execution_count": 51,
   "metadata": {
    "execution": {
     "iopub.execute_input": "2021-09-02T14:08:44.753346Z",
     "iopub.status.busy": "2021-09-02T14:08:44.752149Z",
     "iopub.status.idle": "2021-09-02T14:08:44.812323Z",
     "shell.execute_reply": "2021-09-02T14:08:44.796617Z"
    },
    "slideshow": {
     "slide_type": "subslide"
    }
   },
   "outputs": [
    {
     "name": "stdout",
     "output_type": "stream",
     "text": [
      "Case 1:  False\n",
      "Case 2:  False\n",
      "Case 3:  True\n",
      "Case 4:  True\n",
      "Case 5:  False\n",
      "Case 6:  True\n",
      "Case 7:  True\n",
      "Case 8:  False\n",
      "Case 9:  True\n",
      "Case 10:  False\n",
      "Case 11:  False\n",
      "Case 12:  True\n"
     ]
    }
   ],
   "source": [
    "C = 41\n",
    "\n",
    "print(\"Case 1: \", C == 40)  # False because C is not equal to 40\n",
    "print(\"Case 2: \", C != 40 and C < 41)  # ...\n",
    "print(\"Case 3: \", C != 40 or C < 41)  # ...\n",
    "print(\"Case 4: \", not C == 40)\n",
    "print(\"Case 5: \", not C > 40)\n",
    "print(\"Case 6: \", C <= 41)\n",
    "print(\"Case 7: \", not False)\n",
    "print(\"Case 8: \", True and False)\n",
    "print(\"Case 9: \", False or True)\n",
    "print(\"Case 10: \", False or False or False)\n",
    "print(\"Case 11: \", True and True and False)\n",
    "print(\"Case 12: \", (True and True) or 1 == 2)"
   ]
  },
  {
   "cell_type": "markdown",
   "metadata": {
    "slideshow": {
     "slide_type": "slide"
    }
   },
   "source": [
    "## Loops\n",
    "Suppose we want to make the following table of Celsius and Fahrenheit degrees:\n",
    "```\n",
    " -20  -4.0\n",
    " -15   5.0\n",
    " -10  14.0\n",
    "  -5  23.0\n",
    "   0  32.0\n",
    "   5  41.0\n",
    "  10  50.0\n",
    "  15  59.0\n",
    "  20  68.0\n",
    "  25  77.0\n",
    "  30  86.0\n",
    "  35  95.0\n",
    "  40 104.0\n",
    "```"
   ]
  },
  {
   "cell_type": "markdown",
   "metadata": {
    "slideshow": {
     "slide_type": "subslide"
    }
   },
   "source": [
    "How do we write a program that prints out such a table? We know that $F = \\frac{9}{5}C + 32$, and a single line in this table is:"
   ]
  },
  {
   "cell_type": "code",
   "execution_count": 52,
   "metadata": {
    "execution": {
     "iopub.execute_input": "2021-09-02T14:08:44.817228Z",
     "iopub.status.busy": "2021-09-02T14:08:44.816657Z",
     "iopub.status.idle": "2021-09-02T14:08:44.825454Z",
     "shell.execute_reply": "2021-09-02T14:08:44.825891Z"
    },
    "slideshow": {
     "slide_type": "fragment"
    }
   },
   "outputs": [
    {
     "name": "stdout",
     "output_type": "stream",
     "text": [
      "-20 -4.0\n"
     ]
    }
   ],
   "source": [
    "C = -20\n",
    "F = 9/5*C + 32\n",
    "\n",
    "print(C, F)"
   ]
  },
  {
   "cell_type": "markdown",
   "metadata": {
    "slideshow": {
     "slide_type": "subslide"
    }
   },
   "source": [
    "Now, we can just repeat these statements:"
   ]
  },
  {
   "cell_type": "code",
   "execution_count": 53,
   "metadata": {
    "execution": {
     "iopub.execute_input": "2021-09-02T14:08:44.834398Z",
     "iopub.status.busy": "2021-09-02T14:08:44.833814Z",
     "iopub.status.idle": "2021-09-02T14:08:44.879788Z",
     "shell.execute_reply": "2021-09-02T14:08:44.867977Z"
    },
    "slideshow": {
     "slide_type": "fragment"
    }
   },
   "outputs": [
    {
     "name": "stdout",
     "output_type": "stream",
     "text": [
      "-20 -4.0\n",
      "-15 5.0\n",
      "-10 14.0\n",
      "-5 23.0\n",
      "0 32.0\n",
      "5 41.0\n",
      "10 50.0\n",
      "15 59.0\n",
      "20 68.0\n",
      "25 77.0\n",
      "30 86.0\n",
      "35 95.0\n",
      "40 104.0\n"
     ]
    }
   ],
   "source": [
    "C = -20; F = 9/5*C + 32; print(C, F)\n",
    "C = -15; F = 9/5*C + 32; print(C, F)\n",
    "C = -10; F = 9/5*C + 32; print(C, F)\n",
    "C = -5; F = 9/5*C + 32; print(C, F)\n",
    "C = 0; F = 9/5*C + 32; print(C, F)\n",
    "C = 5; F = 9/5*C + 32; print(C, F)\n",
    "C = 10; F = 9/5*C + 32; print(C, F)\n",
    "C = 15; F = 9/5*C + 32; print(C, F)\n",
    "C = 20; F = 9/5*C + 32; print(C, F)\n",
    "C = 25; F = 9/5*C + 32; print(C, F)\n",
    "C = 30; F = 9/5*C + 32; print(C, F)\n",
    "C = 35; F = 9/5*C + 32; print(C, F)\n",
    "C = 40; F = 9/5*C + 32; print(C, F)"
   ]
  },
  {
   "cell_type": "markdown",
   "metadata": {
    "slideshow": {
     "slide_type": "subslide"
    }
   },
   "source": [
    "We can see that works but it is **very boring** to write and very easy to introduce a misprint.\n",
    "\n",
    "**You really should not be doing boring repetitive tasks like this.** Spend your time instead looking for a smarter solution. When programming becomes boring, there is usually a construct that automates the writing. Computers are very good at performing repetitive tasks. For this purpose we use **loops**."
   ]
  },
  {
   "cell_type": "markdown",
   "metadata": {
    "slideshow": {
     "slide_type": "slide"
    }
   },
   "source": [
    "## The while loop (and the significance of indentation)\n",
    "\n",
    "A `while` loop executes repeatedly a set of statements as long as a **boolean condition** is `True`\n",
    "\n",
    "```python\n",
    "while condition:\n",
    "    <statement 1>\n",
    "    <statement 2>\n",
    "    ...\n",
    "\n",
    "<first statement after the loop>\n",
    "```"
   ]
  },
  {
   "cell_type": "markdown",
   "metadata": {
    "slideshow": {
     "slide_type": "subslide"
    }
   },
   "source": [
    "Note that all statements to be executed within the loop must be indented by the same amount! The loop ends when an unindented statement is encountered."
   ]
  },
  {
   "cell_type": "markdown",
   "metadata": {
    "slideshow": {
     "slide_type": "subslide"
    }
   },
   "source": [
    "In Python, indentations are very important. For instance, when writing a `while` loop:"
   ]
  },
  {
   "cell_type": "code",
   "execution_count": 54,
   "metadata": {
    "execution": {
     "iopub.execute_input": "2021-09-02T14:08:44.884171Z",
     "iopub.status.busy": "2021-09-02T14:08:44.883602Z",
     "iopub.status.idle": "2021-09-02T14:08:44.889596Z",
     "shell.execute_reply": "2021-09-02T14:08:44.890049Z"
    },
    "slideshow": {
     "slide_type": "fragment"
    }
   },
   "outputs": [
    {
     "name": "stdout",
     "output_type": "stream",
     "text": [
      "11\n"
     ]
    }
   ],
   "source": [
    "counter = 0\n",
    "while counter <= 10:\n",
    "    counter = counter + 1\n",
    "\n",
    "print(counter)"
   ]
  },
  {
   "cell_type": "markdown",
   "metadata": {
    "slideshow": {
     "slide_type": "subslide"
    }
   },
   "source": [
    "Let us take a look at what happens when we forget to indent correctly:"
   ]
  },
  {
   "cell_type": "markdown",
   "metadata": {
    "slideshow": {
     "slide_type": "fragment"
    }
   },
   "source": [
    "```python\n",
    "counter = 0\n",
    "while counter <= 10:\n",
    "counter = counter + 1\n",
    "print(counter)\n",
    "\n",
    "\n",
    "  File \"<ipython-input-86-d8461f52562c>\", line 3\n",
    "    counter = counter + 1\n",
    "    ^\n",
    "IndentationError: expected an indented block\n",
    "```"
   ]
  },
  {
   "cell_type": "markdown",
   "metadata": {
    "slideshow": {
     "slide_type": "subslide"
    }
   },
   "source": [
    "Let us now use the `while` loop to create the table above:"
   ]
  },
  {
   "cell_type": "code",
   "execution_count": 55,
   "metadata": {
    "execution": {
     "iopub.execute_input": "2021-09-02T14:08:44.894385Z",
     "iopub.status.busy": "2021-09-02T14:08:44.893808Z",
     "iopub.status.idle": "2021-09-02T14:08:44.934282Z",
     "shell.execute_reply": "2021-09-02T14:08:44.923583Z"
    },
    "slideshow": {
     "slide_type": "fragment"
    }
   },
   "outputs": [
    {
     "name": "stdout",
     "output_type": "stream",
     "text": [
      "-20 -4.0\n",
      "-15 5.0\n",
      "-10 14.0\n",
      "-5 23.0\n",
      "0 32.0\n",
      "5 41.0\n",
      "10 50.0\n",
      "15 59.0\n",
      "20 68.0\n",
      "25 77.0\n",
      "30 86.0\n",
      "35 95.0\n",
      "40 104.0\n"
     ]
    }
   ],
   "source": [
    "C = -20                 # Initialise C\n",
    "dC = 5                  # Increment for C within the loop\n",
    "while C <= 40:          # Loop heading with condition (C <= 40)\n",
    "    F = (9/5)*C + 32  # 1st statement inside loop\n",
    "    print(C, F)         # 2nd statement inside loop\n",
    "    C = C + dC          # Increment C for the next iteration of the loop."
   ]
  },
  {
   "cell_type": "markdown",
   "metadata": {
    "slideshow": {
     "slide_type": "slide"
    }
   },
   "source": [
    "## Exercise 1.11: Compute the number of digits in a positive integer $a$\n",
    "\n",
    "Write a Python function `num_digits(a)` that uses a `while` loop to compute how many decimal digits we need to write a positive integer $a$. For instance, we need 2 digits to write 73, whereas we need 5 digits to write 12345."
   ]
  },
  {
   "cell_type": "code",
   "execution_count": 57,
   "metadata": {
    "execution": {
     "iopub.execute_input": "2021-09-02T14:08:44.937967Z",
     "iopub.status.busy": "2021-09-02T14:08:44.937397Z",
     "iopub.status.idle": "2021-09-02T14:08:44.940640Z",
     "shell.execute_reply": "2021-09-02T14:08:44.941141Z"
    },
    "slideshow": {
     "slide_type": "subslide"
    }
   },
   "outputs": [],
   "source": [
    "def num_digits(a):\n",
    "    number = 1\n",
    "    while a/10 > 1:\n",
    "        number += 1\n",
    "        a = a/10\n",
    "    return number"
   ]
  },
  {
   "cell_type": "code",
   "execution_count": 58,
   "metadata": {
    "execution": {
     "iopub.execute_input": "2021-09-02T14:08:44.954026Z",
     "iopub.status.busy": "2021-09-02T14:08:44.950998Z",
     "iopub.status.idle": "2021-09-02T14:08:44.968177Z",
     "shell.execute_reply": "2021-09-02T14:08:44.967314Z"
    },
    "tags": [
     "pybryt"
    ]
   },
   "outputs": [
    {
     "name": "stdout",
     "output_type": "stream",
     "text": [
      "REFERENCE: exercise-1_11\n",
      "SATISFIED: True\n",
      "MESSAGES:\n",
      "  - SUCCESS: Great! In each iteration, you are dividing the number by 10.\n",
      "  - SUCCESS: You are incrementing the number of digits in each iteration. Well done!\n",
      "  - SUCCESS: Wow! Your function computes the number of digits correctly.\n"
     ]
    }
   ],
   "source": [
    "with pybryt.check(pybryt_reference(1, 11)):\n",
    "    num_digits(999_999_999)"
   ]
  },
  {
   "cell_type": "code",
   "execution_count": 59,
   "metadata": {
    "execution": {
     "iopub.execute_input": "2021-09-02T14:08:44.971590Z",
     "iopub.status.busy": "2021-09-02T14:08:44.970154Z",
     "iopub.status.idle": "2021-09-02T14:08:44.999268Z",
     "shell.execute_reply": "2021-09-02T14:08:44.998495Z"
    },
    "tags": [
     "okpy"
    ]
   },
   "outputs": [
    {
     "name": "stdout",
     "output_type": "stream",
     "text": [
      "~~~~~~~~~~~~~~~~~~~~~~~~~~~~~~~~~~~~~~~~~~~~~~~~~~~~~~~~~~~~~~~~~~~~~\n",
      "Running tests\n",
      "\n",
      "---------------------------------------------------------------------\n",
      "Test summary\n",
      "    Passed: 1\n",
      "    Failed: 0\n",
      "[ooooooooook] 100.0% passed\n",
      "\n"
     ]
    },
    {
     "data": {
      "text/plain": [
       "{'passed': 1, 'failed': 0, 'locked': 0}"
      ]
     },
     "execution_count": 59,
     "metadata": {},
     "output_type": "execute_result"
    }
   ],
   "source": [
    "ok.grade('exercise-1_11')"
   ]
  },
  {
   "cell_type": "markdown",
   "metadata": {
    "slideshow": {
     "slide_type": "slide"
    }
   },
   "source": [
    "## Exercise 1.12: Write an approximate Fahrenheit-Celsius conversion table\n",
    "\n",
    "Instead of using an exact formula for converting Fahrenheit ($F$) to Celsius ($C$) degrees:\n",
    "\n",
    "$$C = \\frac{5}{9}(F - 32),$$\n",
    "\n",
    "many people use an approximate formula for quicker conversion:\n",
    "\n",
    "$$C \\approx \\hat{C} = \\frac{F − 30}{2}.$$\n",
    "\n",
    "Write a Python function `conversion_table` using a `while` loop that prints the conversion table consisting of three columns: $F$, $C$, and the approximate value $\\hat{C}$, for $F = 0, 10, 20, \\ldots, 100$. Besides, using the same while loop, count the number of rows printed and return the count. Ensure that all numbers in the conversion table are printed with two decimal places."
   ]
  },
  {
   "cell_type": "code",
   "execution_count": 61,
   "metadata": {
    "execution": {
     "iopub.execute_input": "2021-09-02T14:08:45.012494Z",
     "iopub.status.busy": "2021-09-02T14:08:45.011892Z",
     "iopub.status.idle": "2021-09-02T14:08:45.015127Z",
     "shell.execute_reply": "2021-09-02T14:08:45.015597Z"
    },
    "slideshow": {
     "slide_type": "subslide"
    }
   },
   "outputs": [],
   "source": [
    "def conversion_table():\n",
    "    F = 0\n",
    "    number = 0\n",
    "    while F <= 100:\n",
    "        C = 5/9 * (F-32)\n",
    "        C_a = (F-30)/2\n",
    "        print('%.2f' %F,'%.2f' %C,'%.2f'%C_a)\n",
    "        F += 10\n",
    "        number += 1\n",
    "    return number\n"
   ]
  },
  {
   "cell_type": "code",
   "execution_count": 62,
   "metadata": {
    "execution": {
     "iopub.execute_input": "2021-09-02T14:08:45.032712Z",
     "iopub.status.busy": "2021-09-02T14:08:45.028936Z",
     "iopub.status.idle": "2021-09-02T14:08:45.119292Z",
     "shell.execute_reply": "2021-09-02T14:08:45.118459Z"
    },
    "tags": [
     "pybryt"
    ]
   },
   "outputs": [
    {
     "name": "stdout",
     "output_type": "stream",
     "text": [
      "0.00 -17.78 -15.00\n",
      "10.00 -12.22 -10.00\n",
      "20.00 -6.67 -5.00\n",
      "30.00 -1.11 0.00\n",
      "40.00 4.44 5.00\n",
      "50.00 10.00 10.00\n",
      "60.00 15.56 15.00\n",
      "70.00 21.11 20.00\n",
      "80.00 26.67 25.00\n",
      "90.00 32.22 30.00\n",
      "100.00 37.78 35.00\n",
      "REFERENCE: exercise-1_12\n",
      "SATISFIED: True\n",
      "MESSAGES:\n",
      "  - SUCCESS: Great! In each iteration, you are increasing F by 10.\n",
      "  - SUCCESS: Your computation of C is correct. Well done!\n",
      "  - SUCCESS: Your computation of approximate C is correct.\n",
      "  - SUCCESS: You are incrementing the number of rows in each iteration. Great!\n",
      "  - SUCCESS: Wow! Your function returns the correct number of rows.\n"
     ]
    }
   ],
   "source": [
    "with pybryt.check(pybryt_reference(1, 12)):\n",
    "    conversion_table()"
   ]
  },
  {
   "cell_type": "code",
   "execution_count": 63,
   "metadata": {
    "execution": {
     "iopub.execute_input": "2021-09-02T14:08:45.122790Z",
     "iopub.status.busy": "2021-09-02T14:08:45.121410Z",
     "iopub.status.idle": "2021-09-02T14:08:45.151659Z",
     "shell.execute_reply": "2021-09-02T14:08:45.152105Z"
    },
    "tags": [
     "okpy"
    ]
   },
   "outputs": [
    {
     "name": "stdout",
     "output_type": "stream",
     "text": [
      "~~~~~~~~~~~~~~~~~~~~~~~~~~~~~~~~~~~~~~~~~~~~~~~~~~~~~~~~~~~~~~~~~~~~~\n",
      "Running tests\n",
      "\n",
      "---------------------------------------------------------------------\n",
      "Test summary\n",
      "    Passed: 1\n",
      "    Failed: 0\n",
      "[ooooooooook] 100.0% passed\n",
      "\n"
     ]
    },
    {
     "data": {
      "text/plain": [
       "{'passed': 1, 'failed': 0, 'locked': 0}"
      ]
     },
     "execution_count": 63,
     "metadata": {},
     "output_type": "execute_result"
    }
   ],
   "source": [
    "ok.grade('exercise-1_12')"
   ]
  },
  {
   "cell_type": "markdown",
   "metadata": {
    "slideshow": {
     "slide_type": "slide"
    }
   },
   "source": [
    "## Lists\n",
    "So far, one variable has referred to one number (or string). Sometimes, however, we naturally have a collection of numbers, e.g. degrees −20, −15, −10, −5, 0, ..., 40. One way to store these values in a computer program would be to have one variable per value:"
   ]
  },
  {
   "cell_type": "code",
   "execution_count": 64,
   "metadata": {
    "execution": {
     "iopub.execute_input": "2021-09-02T14:08:45.178269Z",
     "iopub.status.busy": "2021-09-02T14:08:45.176746Z",
     "iopub.status.idle": "2021-09-02T14:08:45.181832Z",
     "shell.execute_reply": "2021-09-02T14:08:45.181243Z"
    },
    "slideshow": {
     "slide_type": "fragment"
    }
   },
   "outputs": [],
   "source": [
    "C1 = -20\n",
    "C2 = -15\n",
    "C3 = -10\n",
    "# ...\n",
    "C13 = 40"
   ]
  },
  {
   "cell_type": "markdown",
   "metadata": {
    "slideshow": {
     "slide_type": "subslide"
    }
   },
   "source": [
    "This is clearly a terrible solution, particularly if we have lots of values. A better way of doing this is to collect values together in a list:"
   ]
  },
  {
   "cell_type": "code",
   "execution_count": 65,
   "metadata": {
    "execution": {
     "iopub.execute_input": "2021-09-02T14:08:45.185415Z",
     "iopub.status.busy": "2021-09-02T14:08:45.183789Z",
     "iopub.status.idle": "2021-09-02T14:08:45.188733Z",
     "shell.execute_reply": "2021-09-02T14:08:45.187939Z"
    },
    "slideshow": {
     "slide_type": "fragment"
    }
   },
   "outputs": [],
   "source": [
    "C = [-20, -15, -10, -5, 0, 5, 10, 15, 20, 25, 30, 35, 40]"
   ]
  },
  {
   "cell_type": "markdown",
   "metadata": {
    "slideshow": {
     "slide_type": "subslide"
    }
   },
   "source": [
    "Now, there is just one variable, `C`, holding all the values. We access elements in a list via an index. List indices are always *zero-indexed*, i.e. they are numbered as 0, 1, 2, and so forth up to the number of elements minus one:"
   ]
  },
  {
   "cell_type": "code",
   "execution_count": 66,
   "metadata": {
    "execution": {
     "iopub.execute_input": "2021-09-02T14:08:45.193306Z",
     "iopub.status.busy": "2021-09-02T14:08:45.192732Z",
     "iopub.status.idle": "2021-09-02T14:08:45.207255Z",
     "shell.execute_reply": "2021-09-02T14:08:45.207728Z"
    },
    "slideshow": {
     "slide_type": "fragment"
    }
   },
   "outputs": [
    {
     "name": "stdout",
     "output_type": "stream",
     "text": [
      "First element: 4\n",
      "Second element: 6\n",
      "Third element: -3.5\n"
     ]
    }
   ],
   "source": [
    "mylist = [4, 6, -3.5]\n",
    "print('First element:', mylist[0])\n",
    "print('Second element:', mylist[1])\n",
    "print('Third element:', mylist[2])"
   ]
  },
  {
   "cell_type": "markdown",
   "metadata": {
    "slideshow": {
     "slide_type": "subslide"
    }
   },
   "source": [
    "Here are a few examples of operations that you can perform on lists:"
   ]
  },
  {
   "cell_type": "code",
   "execution_count": 67,
   "metadata": {
    "execution": {
     "iopub.execute_input": "2021-09-02T14:08:45.212665Z",
     "iopub.status.busy": "2021-09-02T14:08:45.212065Z",
     "iopub.status.idle": "2021-09-02T14:08:45.216583Z",
     "shell.execute_reply": "2021-09-02T14:08:45.216051Z"
    },
    "slideshow": {
     "slide_type": "fragment"
    }
   },
   "outputs": [
    {
     "name": "stdout",
     "output_type": "stream",
     "text": [
      "[-10, -5, 0, 5, 10, 15, 20, 25, 30, 35]\n"
     ]
    }
   ],
   "source": [
    "C = [-10, -5, 0, 5, 10, 15, 20, 25, 30]\n",
    "C.append(35)  # add new element 35 at the end\n",
    "print(C)"
   ]
  },
  {
   "cell_type": "code",
   "execution_count": 68,
   "metadata": {
    "execution": {
     "iopub.execute_input": "2021-09-02T14:08:45.220370Z",
     "iopub.status.busy": "2021-09-02T14:08:45.219734Z",
     "iopub.status.idle": "2021-09-02T14:08:45.224988Z",
     "shell.execute_reply": "2021-09-02T14:08:45.224194Z"
    },
    "slideshow": {
     "slide_type": "fragment"
    }
   },
   "outputs": [
    {
     "name": "stdout",
     "output_type": "stream",
     "text": [
      "[-10, -5, 0, 5, 10, 15, 20, 25, 30, 35, 40, 45]\n"
     ]
    }
   ],
   "source": [
    "C = C + [40, 45]  # And another list to the end of C\n",
    "print(C)"
   ]
  },
  {
   "cell_type": "code",
   "execution_count": 69,
   "metadata": {
    "execution": {
     "iopub.execute_input": "2021-09-02T14:08:45.228700Z",
     "iopub.status.busy": "2021-09-02T14:08:45.228102Z",
     "iopub.status.idle": "2021-09-02T14:08:45.232324Z",
     "shell.execute_reply": "2021-09-02T14:08:45.232805Z"
    },
    "slideshow": {
     "slide_type": "fragment"
    }
   },
   "outputs": [
    {
     "name": "stdout",
     "output_type": "stream",
     "text": [
      "[-15, -10, -5, 0, 5, 10, 15, 20, 25, 30, 35, 40, 45]\n"
     ]
    }
   ],
   "source": [
    "C.insert(0, -15)  # Insert -15 as index 0\n",
    "print(C)"
   ]
  },
  {
   "cell_type": "code",
   "execution_count": 70,
   "metadata": {
    "execution": {
     "iopub.execute_input": "2021-09-02T14:08:45.236565Z",
     "iopub.status.busy": "2021-09-02T14:08:45.235955Z",
     "iopub.status.idle": "2021-09-02T14:08:45.240098Z",
     "shell.execute_reply": "2021-09-02T14:08:45.240610Z"
    },
    "slideshow": {
     "slide_type": "fragment"
    }
   },
   "outputs": [
    {
     "name": "stdout",
     "output_type": "stream",
     "text": [
      "[-15, -10, 0, 5, 10, 15, 20, 25, 30, 35, 40, 45]\n"
     ]
    }
   ],
   "source": [
    "del C[2]  # delete 3rd element\n",
    "print(C)"
   ]
  },
  {
   "cell_type": "code",
   "execution_count": 71,
   "metadata": {
    "execution": {
     "iopub.execute_input": "2021-09-02T14:08:45.244222Z",
     "iopub.status.busy": "2021-09-02T14:08:45.243655Z",
     "iopub.status.idle": "2021-09-02T14:08:45.247904Z",
     "shell.execute_reply": "2021-09-02T14:08:45.248419Z"
    },
    "slideshow": {
     "slide_type": "subslide"
    }
   },
   "outputs": [
    {
     "name": "stdout",
     "output_type": "stream",
     "text": [
      "[-15, -10, 5, 10, 15, 20, 25, 30, 35, 40, 45]\n"
     ]
    }
   ],
   "source": [
    "del C[2]  # delete what is now 3rd element\n",
    "print(C)"
   ]
  },
  {
   "cell_type": "code",
   "execution_count": 72,
   "metadata": {
    "execution": {
     "iopub.execute_input": "2021-09-02T14:08:45.252146Z",
     "iopub.status.busy": "2021-09-02T14:08:45.251574Z",
     "iopub.status.idle": "2021-09-02T14:08:45.256622Z",
     "shell.execute_reply": "2021-09-02T14:08:45.255840Z"
    },
    "slideshow": {
     "slide_type": "fragment"
    }
   },
   "outputs": [
    {
     "name": "stdout",
     "output_type": "stream",
     "text": [
      "11\n"
     ]
    }
   ],
   "source": [
    "print(len(C))  # length of list"
   ]
  },
  {
   "cell_type": "code",
   "execution_count": 73,
   "metadata": {
    "execution": {
     "iopub.execute_input": "2021-09-02T14:08:45.260869Z",
     "iopub.status.busy": "2021-09-02T14:08:45.260263Z",
     "iopub.status.idle": "2021-09-02T14:08:45.264063Z",
     "shell.execute_reply": "2021-09-02T14:08:45.264595Z"
    },
    "slideshow": {
     "slide_type": "fragment"
    }
   },
   "outputs": [
    {
     "name": "stdout",
     "output_type": "stream",
     "text": [
      "3\n"
     ]
    }
   ],
   "source": [
    "print(C.index(10))  # Find the index of the element with the value 10"
   ]
  },
  {
   "cell_type": "code",
   "execution_count": 74,
   "metadata": {
    "execution": {
     "iopub.execute_input": "2021-09-02T14:08:45.268806Z",
     "iopub.status.busy": "2021-09-02T14:08:45.266421Z",
     "iopub.status.idle": "2021-09-02T14:08:45.274883Z",
     "shell.execute_reply": "2021-09-02T14:08:45.274395Z"
    },
    "slideshow": {
     "slide_type": "fragment"
    }
   },
   "outputs": [
    {
     "name": "stdout",
     "output_type": "stream",
     "text": [
      "True\n"
     ]
    }
   ],
   "source": [
    "print(10 in C)  # True only if the value 10 is stored in the list"
   ]
  },
  {
   "cell_type": "code",
   "execution_count": 75,
   "metadata": {
    "execution": {
     "iopub.execute_input": "2021-09-02T14:08:45.278522Z",
     "iopub.status.busy": "2021-09-02T14:08:45.277943Z",
     "iopub.status.idle": "2021-09-02T14:08:45.284436Z",
     "shell.execute_reply": "2021-09-02T14:08:45.283925Z"
    },
    "slideshow": {
     "slide_type": "fragment"
    }
   },
   "outputs": [
    {
     "name": "stdout",
     "output_type": "stream",
     "text": [
      "45\n"
     ]
    }
   ],
   "source": [
    "print(C[-1])  # The last value in the list"
   ]
  },
  {
   "cell_type": "code",
   "execution_count": 76,
   "metadata": {
    "execution": {
     "iopub.execute_input": "2021-09-02T14:08:45.287673Z",
     "iopub.status.busy": "2021-09-02T14:08:45.287115Z",
     "iopub.status.idle": "2021-09-02T14:08:45.293441Z",
     "shell.execute_reply": "2021-09-02T14:08:45.293878Z"
    },
    "slideshow": {
     "slide_type": "fragment"
    }
   },
   "outputs": [
    {
     "name": "stdout",
     "output_type": "stream",
     "text": [
      "40\n"
     ]
    }
   ],
   "source": [
    "print(C[-2])  # The second last value in the list"
   ]
  },
  {
   "cell_type": "markdown",
   "metadata": {
    "slideshow": {
     "slide_type": "subslide"
    }
   },
   "source": [
    "We can also extract sublists using `:`:"
   ]
  },
  {
   "cell_type": "code",
   "execution_count": 77,
   "metadata": {
    "execution": {
     "iopub.execute_input": "2021-09-02T14:08:45.298567Z",
     "iopub.status.busy": "2021-09-02T14:08:45.296865Z",
     "iopub.status.idle": "2021-09-02T14:08:45.301301Z",
     "shell.execute_reply": "2021-09-02T14:08:45.300736Z"
    },
    "slideshow": {
     "slide_type": "fragment"
    }
   },
   "outputs": [
    {
     "name": "stdout",
     "output_type": "stream",
     "text": [
      "[20, 25, 30, 35, 40, 45]\n"
     ]
    }
   ],
   "source": [
    "print(C[5:])  # From index 5 to the end of the list"
   ]
  },
  {
   "cell_type": "code",
   "execution_count": 78,
   "metadata": {
    "execution": {
     "iopub.execute_input": "2021-09-02T14:08:45.304978Z",
     "iopub.status.busy": "2021-09-02T14:08:45.304412Z",
     "iopub.status.idle": "2021-09-02T14:08:45.308013Z",
     "shell.execute_reply": "2021-09-02T14:08:45.308487Z"
    },
    "slideshow": {
     "slide_type": "fragment"
    }
   },
   "outputs": [
    {
     "name": "stdout",
     "output_type": "stream",
     "text": [
      "[20, 25]\n"
     ]
    }
   ],
   "source": [
    "print(C[5:7])  # From index 5 up to, but NOT including index 7"
   ]
  },
  {
   "cell_type": "code",
   "execution_count": 79,
   "metadata": {
    "execution": {
     "iopub.execute_input": "2021-09-02T14:08:45.312800Z",
     "iopub.status.busy": "2021-09-02T14:08:45.312191Z",
     "iopub.status.idle": "2021-09-02T14:08:45.316413Z",
     "shell.execute_reply": "2021-09-02T14:08:45.315869Z"
    },
    "slideshow": {
     "slide_type": "fragment"
    }
   },
   "outputs": [
    {
     "name": "stdout",
     "output_type": "stream",
     "text": [
      "[30, 35, 40]\n"
     ]
    }
   ],
   "source": [
    "print(C[7:-1])  # From index 7 up to the second last element"
   ]
  },
  {
   "cell_type": "code",
   "execution_count": 80,
   "metadata": {
    "execution": {
     "iopub.execute_input": "2021-09-02T14:08:45.320157Z",
     "iopub.status.busy": "2021-09-02T14:08:45.319581Z",
     "iopub.status.idle": "2021-09-02T14:08:45.325532Z",
     "shell.execute_reply": "2021-09-02T14:08:45.326033Z"
    },
    "slideshow": {
     "slide_type": "fragment"
    }
   },
   "outputs": [
    {
     "name": "stdout",
     "output_type": "stream",
     "text": [
      "[-15, -10, 5, 10, 15, 20, 25, 30, 35, 40, 45]\n"
     ]
    }
   ],
   "source": [
    "print(C[:])  # [:] specifies the whole list."
   ]
  },
  {
   "cell_type": "markdown",
   "metadata": {
    "slideshow": {
     "slide_type": "subslide"
    }
   },
   "source": [
    "We can also *unpack* the elements of a list into separate variables:"
   ]
  },
  {
   "cell_type": "code",
   "execution_count": 81,
   "metadata": {
    "execution": {
     "iopub.execute_input": "2021-09-02T14:08:45.330703Z",
     "iopub.status.busy": "2021-09-02T14:08:45.330106Z",
     "iopub.status.idle": "2021-09-02T14:08:45.335849Z",
     "shell.execute_reply": "2021-09-02T14:08:45.335329Z"
    },
    "slideshow": {
     "slide_type": "fragment"
    }
   },
   "outputs": [
    {
     "name": "stdout",
     "output_type": "stream",
     "text": [
      "stooge1: Curly, stooge2: Larry, stooge3: Moe\n"
     ]
    }
   ],
   "source": [
    "somelist = ['Curly', 'Larry', 'Moe']\n",
    "stooge1, stooge2, stooge3 = somelist\n",
    "print(f'stooge1: {stooge1}, stooge2: {stooge2}, stooge3: {stooge3}')"
   ]
  },
  {
   "cell_type": "markdown",
   "metadata": {
    "slideshow": {
     "slide_type": "slide"
    }
   },
   "source": [
    "## Exercise 1.13: Store odd numbers in a list\n",
    "\n",
    "Write a Python function `odd_numbers(n)` that uses a `while` loop, and generates and returns a list of all odd numbers from $1$ to $n$. (Make sure that if $n$ is an even number, the largest generated odd number is $n-1$.)"
   ]
  },
  {
   "cell_type": "code",
   "execution_count": 83,
   "metadata": {
    "execution": {
     "iopub.execute_input": "2021-09-02T14:08:45.339160Z",
     "iopub.status.busy": "2021-09-02T14:08:45.337899Z",
     "iopub.status.idle": "2021-09-02T14:08:45.341612Z",
     "shell.execute_reply": "2021-09-02T14:08:45.341079Z"
    },
    "slideshow": {
     "slide_type": "subslide"
    }
   },
   "outputs": [],
   "source": [
    "def odd_numbers(n):\n",
    "    listA = []\n",
    "    c = 1\n",
    "    while c <= n:\n",
    "        if c % 2 == 1:\n",
    "            listA.append(c)\n",
    "        c = c+1\n",
    "    return listA\n"
   ]
  },
  {
   "cell_type": "code",
   "execution_count": 84,
   "metadata": {
    "execution": {
     "iopub.execute_input": "2021-09-02T14:08:45.352904Z",
     "iopub.status.busy": "2021-09-02T14:08:45.352333Z",
     "iopub.status.idle": "2021-09-02T14:08:45.443915Z",
     "shell.execute_reply": "2021-09-02T14:08:45.443365Z"
    },
    "tags": [
     "pybryt"
    ]
   },
   "outputs": [
    {
     "name": "stdout",
     "output_type": "stream",
     "text": [
      "REFERENCE: exercise-1_13\n",
      "SATISFIED: False\n",
      "MESSAGES:\n",
      "  - ERROR: Hmmm... you are not appending an odd number to the list in each iteration.\n",
      "  - SUCCESS: In each iteration, you are increasing the number by 2.\n",
      "  - SUCCESS: Before the loop, you begin with an empty list. Well done!\n",
      "  - SUCCESS: Before the loop, you start with 1.\n",
      "  - SUCCESS: Your function returns the correct solution.\n"
     ]
    }
   ],
   "source": [
    "with pybryt.check(pybryt_reference(1, 13)):\n",
    "    odd_numbers(50)"
   ]
  },
  {
   "cell_type": "code",
   "execution_count": 85,
   "metadata": {
    "execution": {
     "iopub.execute_input": "2021-09-02T14:08:45.448015Z",
     "iopub.status.busy": "2021-09-02T14:08:45.447425Z",
     "iopub.status.idle": "2021-09-02T14:08:45.477124Z",
     "shell.execute_reply": "2021-09-02T14:08:45.477602Z"
    },
    "tags": [
     "okpy"
    ]
   },
   "outputs": [
    {
     "name": "stdout",
     "output_type": "stream",
     "text": [
      "~~~~~~~~~~~~~~~~~~~~~~~~~~~~~~~~~~~~~~~~~~~~~~~~~~~~~~~~~~~~~~~~~~~~~\n",
      "Running tests\n",
      "\n",
      "---------------------------------------------------------------------\n",
      "Test summary\n",
      "    Passed: 2\n",
      "    Failed: 0\n",
      "[ooooooooook] 100.0% passed\n",
      "\n"
     ]
    },
    {
     "data": {
      "text/plain": [
       "{'passed': 2, 'failed': 0, 'locked': 0}"
      ]
     },
     "execution_count": 85,
     "metadata": {},
     "output_type": "execute_result"
    }
   ],
   "source": [
    "ok.grade('exercise-1_13')"
   ]
  },
  {
   "cell_type": "markdown",
   "metadata": {
    "slideshow": {
     "slide_type": "slide"
    }
   },
   "source": [
    "## For loops\n",
    "We can visit each element in a list and process it with some statements using a `for` loop, for example:"
   ]
  },
  {
   "cell_type": "code",
   "execution_count": 86,
   "metadata": {
    "execution": {
     "iopub.execute_input": "2021-09-02T14:08:45.491165Z",
     "iopub.status.busy": "2021-09-02T14:08:45.490436Z",
     "iopub.status.idle": "2021-09-02T14:08:45.522468Z",
     "shell.execute_reply": "2021-09-02T14:08:45.518219Z"
    },
    "slideshow": {
     "slide_type": "fragment"
    }
   },
   "outputs": [
    {
     "name": "stdout",
     "output_type": "stream",
     "text": [
      "list element: 0\n",
      "list element: 10\n",
      "list element: 20\n",
      "list element: 40\n",
      "list element: 100\n",
      "The list has 5 elements.\n"
     ]
    }
   ],
   "source": [
    "degrees = [0, 10, 20, 40, 100]\n",
    "for C in degrees:\n",
    "    print('list element:', C)\n",
    "print(f'The list has {len(degrees)} elements.')"
   ]
  },
  {
   "cell_type": "markdown",
   "metadata": {
    "slideshow": {
     "slide_type": "subslide"
    }
   },
   "source": [
    "Notice again how the statements to be executed within the loop must be indented! Let us now revisit the conversion table example using the `for` loop:"
   ]
  },
  {
   "cell_type": "code",
   "execution_count": 87,
   "metadata": {
    "execution": {
     "iopub.execute_input": "2021-09-02T14:08:45.528099Z",
     "iopub.status.busy": "2021-09-02T14:08:45.526922Z",
     "iopub.status.idle": "2021-09-02T14:08:45.585881Z",
     "shell.execute_reply": "2021-09-02T14:08:45.564148Z"
    },
    "slideshow": {
     "slide_type": "fragment"
    }
   },
   "outputs": [
    {
     "name": "stdout",
     "output_type": "stream",
     "text": [
      "-20 -4.0\n",
      "-15 5.0\n",
      "-10 14.0\n",
      "-5 23.0\n",
      "0 32.0\n",
      "5 41.0\n",
      "10 50.0\n",
      "15 59.0\n",
      "20 68.0\n",
      "25 77.0\n",
      "30 86.0\n",
      "35 95.0\n",
      "40 104.0\n"
     ]
    }
   ],
   "source": [
    "Cdegrees = [-20, -15, -10, -5, 0, 5, 10, 15, 20, 25, 30, 35, 40]\n",
    "for C in Cdegrees:\n",
    "    F = (9/5)*C + 32\n",
    "    print(C, F)"
   ]
  },
  {
   "cell_type": "markdown",
   "metadata": {
    "slideshow": {
     "slide_type": "subslide"
    }
   },
   "source": [
    "We can easily beautify the table using the *printf syntax* we encountered previously:"
   ]
  },
  {
   "cell_type": "code",
   "execution_count": 88,
   "metadata": {
    "execution": {
     "iopub.execute_input": "2021-09-02T14:08:45.590225Z",
     "iopub.status.busy": "2021-09-02T14:08:45.589661Z",
     "iopub.status.idle": "2021-09-02T14:08:45.614744Z",
     "shell.execute_reply": "2021-09-02T14:08:45.612856Z"
    },
    "slideshow": {
     "slide_type": "fragment"
    }
   },
   "outputs": [
    {
     "name": "stdout",
     "output_type": "stream",
     "text": [
      "  -20  -4.0\n",
      "  -15   5.0\n",
      "  -10  14.0\n",
      "   -5  23.0\n",
      "    0  32.0\n",
      "    5  41.0\n",
      "   10  50.0\n",
      "   15  59.0\n",
      "   20  68.0\n",
      "   25  77.0\n",
      "   30  86.0\n",
      "   35  95.0\n",
      "   40 104.0\n"
     ]
    }
   ],
   "source": [
    "for C in Cdegrees:\n",
    "    F = (9.0/5)*C + 32\n",
    "    print('%5d %5.1f' % (C, F))"
   ]
  },
  {
   "cell_type": "markdown",
   "metadata": {
    "slideshow": {
     "slide_type": "subslide"
    }
   },
   "source": [
    "It is also possible to rewrite the `for` loop as a `while` loop, i.e.\n",
    "\n",
    "```python\n",
    "for element in somelist:\n",
    "    # process element\n",
    "```\n",
    "\n",
    "can always be transformed to a `while` loop\n",
    "```python\n",
    "index = 0\n",
    "while index < len(somelist):\n",
    "    element = somelist[index]\n",
    "    # process element\n",
    "    index += 1\n",
    "```"
   ]
  },
  {
   "cell_type": "markdown",
   "metadata": {
    "slideshow": {
     "slide_type": "subslide"
    }
   },
   "source": [
    "Let us see how a previous example would look like if we used `while` instead of `for` loop:"
   ]
  },
  {
   "cell_type": "code",
   "execution_count": 89,
   "metadata": {
    "execution": {
     "iopub.execute_input": "2021-09-02T14:08:45.619538Z",
     "iopub.status.busy": "2021-09-02T14:08:45.618977Z",
     "iopub.status.idle": "2021-09-02T14:08:45.649885Z",
     "shell.execute_reply": "2021-09-02T14:08:45.643165Z"
    },
    "slideshow": {
     "slide_type": "fragment"
    }
   },
   "outputs": [
    {
     "name": "stdout",
     "output_type": "stream",
     "text": [
      "  -20  -4.0\n",
      "  -15   5.0\n",
      "  -10  14.0\n",
      "   -5  23.0\n",
      "    0  32.0\n",
      "    5  41.0\n",
      "   10  50.0\n",
      "   15  59.0\n",
      "   20  68.0\n",
      "   25  77.0\n",
      "   30  86.0\n",
      "   35  95.0\n",
      "   40 104.0\n"
     ]
    }
   ],
   "source": [
    "Cdegrees = [-20, -15, -10, -5, 0, 5, 10, 15, 20, 25, 30, 35, 40]\n",
    "index = 0\n",
    "while index < len(Cdegrees):\n",
    "    C = Cdegrees[index]\n",
    "    F = (9.0/5)*C + 32\n",
    "    print('%5d %5.1f' % (C, F))\n",
    "    index += 1"
   ]
  },
  {
   "cell_type": "markdown",
   "metadata": {
    "slideshow": {
     "slide_type": "subslide"
    }
   },
   "source": [
    "Rather than just printing out the Fahrenheit values, let us also store these computed values in a list of their own:"
   ]
  },
  {
   "cell_type": "code",
   "execution_count": 90,
   "metadata": {
    "execution": {
     "iopub.execute_input": "2021-09-02T14:08:45.654785Z",
     "iopub.status.busy": "2021-09-02T14:08:45.654214Z",
     "iopub.status.idle": "2021-09-02T14:08:45.660145Z",
     "shell.execute_reply": "2021-09-02T14:08:45.660674Z"
    },
    "slideshow": {
     "slide_type": "fragment"
    }
   },
   "outputs": [
    {
     "name": "stdout",
     "output_type": "stream",
     "text": [
      "[-4.0, 5.0, 14.0, 23.0, 32.0, 41.0, 50.0, 59.0, 68.0, 77.0, 86.0, 95.0, 104.0]\n"
     ]
    }
   ],
   "source": [
    "Cdegrees = [-20, -15, -10, -5, 0, 5, 10, 15, 20, 25, 30, 35, 40]\n",
    "Fdegrees = []  # start with empty list\n",
    "for C in Cdegrees:\n",
    "    F = (9/5)*C + 32\n",
    "    Fdegrees.append(F)  # add new element to Fdegrees\n",
    "print(Fdegrees)"
   ]
  },
  {
   "cell_type": "markdown",
   "metadata": {
    "slideshow": {
     "slide_type": "subslide"
    }
   },
   "source": [
    "In Python, `for` loops usually loop over list values (elements), i.e.\n",
    "\n",
    "```python\n",
    "for element in somelist:\n",
    "    # process variable element\n",
    "```\n",
    "\n",
    "However, we can also loop over list indices:\n",
    "\n",
    "```python\n",
    "for i in range(0, len(somelist), 1):\n",
    "    element = somelist[i]\n",
    "    # process element or somelist[i] directly\n",
    "```"
   ]
  },
  {
   "cell_type": "markdown",
   "metadata": {
    "slideshow": {
     "slide_type": "subslide"
    }
   },
   "source": [
    "The statement `range(start, stop, increment)` generates a list of integers *start*, *start+increment*, *start+2\\*increment*, and so on up to, but not including, *stop*. We can also write `range(stop)` as an abbreviation for `range(0, stop, 1)`:"
   ]
  },
  {
   "cell_type": "code",
   "execution_count": 91,
   "metadata": {
    "execution": {
     "iopub.execute_input": "2021-09-02T14:08:45.665195Z",
     "iopub.status.busy": "2021-09-02T14:08:45.664618Z",
     "iopub.status.idle": "2021-09-02T14:08:45.675844Z",
     "shell.execute_reply": "2021-09-02T14:08:45.675353Z"
    },
    "slideshow": {
     "slide_type": "fragment"
    }
   },
   "outputs": [
    {
     "name": "stdout",
     "output_type": "stream",
     "text": [
      "0\n",
      "1\n",
      "2\n"
     ]
    }
   ],
   "source": [
    "for i in range(3):  # same as range(0, 3, 1)\n",
    "    print(i)"
   ]
  },
  {
   "cell_type": "code",
   "execution_count": 92,
   "metadata": {
    "execution": {
     "iopub.execute_input": "2021-09-02T14:08:45.679491Z",
     "iopub.status.busy": "2021-09-02T14:08:45.678932Z",
     "iopub.status.idle": "2021-09-02T14:08:45.686628Z",
     "shell.execute_reply": "2021-09-02T14:08:45.687093Z"
    },
    "slideshow": {
     "slide_type": "fragment"
    }
   },
   "outputs": [
    {
     "name": "stdout",
     "output_type": "stream",
     "text": [
      "2\n",
      "5\n"
     ]
    }
   ],
   "source": [
    "for i in range(2, 8, 3):\n",
    "    print(i)"
   ]
  },
  {
   "cell_type": "markdown",
   "metadata": {
    "slideshow": {
     "slide_type": "slide"
    }
   },
   "source": [
    "## List comprehensions\n",
    "Consider this example where we compute two lists in a `for` loop:"
   ]
  },
  {
   "cell_type": "code",
   "execution_count": 93,
   "metadata": {
    "execution": {
     "iopub.execute_input": "2021-09-02T14:08:45.696435Z",
     "iopub.status.busy": "2021-09-02T14:08:45.695808Z",
     "iopub.status.idle": "2021-09-02T14:08:45.703216Z",
     "shell.execute_reply": "2021-09-02T14:08:45.701205Z"
    },
    "slideshow": {
     "slide_type": "fragment"
    }
   },
   "outputs": [
    {
     "name": "stdout",
     "output_type": "stream",
     "text": [
      "Cdegrees =  [-5.0, -4.5, -4.0, -3.5, -3.0, -2.5, -2.0, -1.5, -1.0, -0.5, 0.0, 0.5, 1.0, 1.5, 2.0, 2.5]\n",
      "Fdegrees =  [23.0, 23.9, 24.8, 25.7, 26.6, 27.5, 28.4, 29.3, 30.2, 31.1, 32.0, 32.9, 33.8, 34.7, 35.6, 36.5]\n"
     ]
    }
   ],
   "source": [
    "n = 16\n",
    "\n",
    "# empty lists\n",
    "Cdegrees = []\n",
    "Fdegrees = []\n",
    "\n",
    "for i in range(n):\n",
    "    Cdegrees.append(-5 + i*0.5)\n",
    "    Fdegrees.append((9/5)*Cdegrees[i] + 32)\n",
    "\n",
    "print(\"Cdegrees = \", Cdegrees)\n",
    "print(\"Fdegrees = \", Fdegrees)"
   ]
  },
  {
   "cell_type": "markdown",
   "metadata": {
    "slideshow": {
     "slide_type": "subslide"
    }
   },
   "source": [
    "As constructing lists is a very common task, the above way of doing it can become very tedious both to write and read. Therefore, Python has a compact construct, called *list comprehension* for generating lists from a `for` loop:"
   ]
  },
  {
   "cell_type": "code",
   "execution_count": 94,
   "metadata": {
    "execution": {
     "iopub.execute_input": "2021-09-02T14:08:45.707977Z",
     "iopub.status.busy": "2021-09-02T14:08:45.706864Z",
     "iopub.status.idle": "2021-09-02T14:08:45.723200Z",
     "shell.execute_reply": "2021-09-02T14:08:45.722689Z"
    },
    "slideshow": {
     "slide_type": "fragment"
    }
   },
   "outputs": [
    {
     "name": "stdout",
     "output_type": "stream",
     "text": [
      "Cdegrees =  [-5.0, -4.5, -4.0, -3.5, -3.0, -2.5, -2.0, -1.5, -1.0, -0.5, 0.0, 0.5, 1.0, 1.5, 2.0, 2.5]\n",
      "Fdegrees =  [23.0, 23.9, 24.8, 25.7, 26.6, 27.5, 28.4, 29.3, 30.2, 31.1, 32.0, 32.9, 33.8, 34.7, 35.6, 36.5]\n"
     ]
    }
   ],
   "source": [
    "n = 16\n",
    "Cdegrees = [-5 + i*0.5 for i in range(n)]\n",
    "Fdegrees = [(9/5)*C + 32 for C in Cdegrees]\n",
    "print(\"Cdegrees = \", Cdegrees)\n",
    "print(\"Fdegrees = \", Fdegrees)"
   ]
  },
  {
   "cell_type": "markdown",
   "metadata": {
    "slideshow": {
     "slide_type": "subslide"
    }
   },
   "source": [
    "The general form of a list comprehension is:\n",
    "```python\n",
    "somelist = [expression for element in somelist]\n",
    "```"
   ]
  },
  {
   "cell_type": "markdown",
   "metadata": {
    "slideshow": {
     "slide_type": "slide"
    }
   },
   "source": [
    "## Exercise 1.14: Create a list of even numbers ranging from 0 to $n$ using a `for` loop.\n",
    "\n",
    "Write a function `even_numbers(n)` using a `for` loop, which generates and returns a list of all even numbers from 0 to $n$. For instance, `even_numbers(10)` should return list `[0, 2, 4, 6, 8]`. In this exercise, do not use list comprehensions."
   ]
  },
  {
   "cell_type": "code",
   "execution_count": 95,
   "metadata": {
    "execution": {
     "iopub.execute_input": "2021-09-02T14:08:45.727934Z",
     "iopub.status.busy": "2021-09-02T14:08:45.726541Z",
     "iopub.status.idle": "2021-09-02T14:08:45.728596Z",
     "shell.execute_reply": "2021-09-02T14:08:45.729098Z"
    }
   },
   "outputs": [],
   "source": [
    "def even_numbers(n):\n",
    "    listA = []\n",
    "    for i in range(0,n):\n",
    "        if i % 2 ==0:\n",
    "            listA.append(i)\n",
    "    return listA"
   ]
  },
  {
   "cell_type": "code",
   "execution_count": 96,
   "metadata": {
    "execution": {
     "iopub.execute_input": "2021-09-02T14:08:45.739558Z",
     "iopub.status.busy": "2021-09-02T14:08:45.738265Z",
     "iopub.status.idle": "2021-09-02T14:08:45.757848Z",
     "shell.execute_reply": "2021-09-02T14:08:45.757336Z"
    },
    "tags": [
     "pybryt"
    ]
   },
   "outputs": [
    {
     "name": "stdout",
     "output_type": "stream",
     "text": [
      "REFERENCE: exercise-1_14\n",
      "SATISFIED: False\n",
      "MESSAGES:\n",
      "  - ERROR: Hmmm... you are not appending an even number to the list in each iteration.\n",
      "  - SUCCESS: You are iterating over the correct list.\n",
      "  - SUCCESS: Before the loop, you begin with an empty list. Well done!\n",
      "  - SUCCESS: Your function returns the correct solution.\n"
     ]
    }
   ],
   "source": [
    "with pybryt.check(pybryt_reference(1, 14)):\n",
    "    even_numbers(11)"
   ]
  },
  {
   "cell_type": "code",
   "execution_count": 97,
   "metadata": {
    "execution": {
     "iopub.execute_input": "2021-09-02T14:08:45.763992Z",
     "iopub.status.busy": "2021-09-02T14:08:45.763427Z",
     "iopub.status.idle": "2021-09-02T14:08:45.795315Z",
     "shell.execute_reply": "2021-09-02T14:08:45.794712Z"
    },
    "tags": [
     "okpy"
    ]
   },
   "outputs": [
    {
     "name": "stdout",
     "output_type": "stream",
     "text": [
      "~~~~~~~~~~~~~~~~~~~~~~~~~~~~~~~~~~~~~~~~~~~~~~~~~~~~~~~~~~~~~~~~~~~~~\n",
      "Running tests\n",
      "\n",
      "---------------------------------------------------------------------\n",
      "Test summary\n",
      "    Passed: 2\n",
      "    Failed: 0\n",
      "[ooooooooook] 100.0% passed\n",
      "\n"
     ]
    },
    {
     "data": {
      "text/plain": [
       "{'passed': 2, 'failed': 0, 'locked': 0}"
      ]
     },
     "execution_count": 97,
     "metadata": {},
     "output_type": "execute_result"
    }
   ],
   "source": [
    "ok.grade('exercise-1_14')"
   ]
  },
  {
   "cell_type": "markdown",
   "metadata": {},
   "source": [
    "## Exercise 1.15: Implement the sum function\n",
    "\n",
    "The built-in Python function [sum](https://docs.python.org/3/library/functions.html#sum) takes a list as an argument and computes the sum of the elements in the list:\n",
    "```python\n",
    ">> sum([1,3,5,-5])\n",
    "4\n",
    "```\n",
    "Implement your own version of the sum function and name it `my_sum`."
   ]
  },
  {
   "cell_type": "code",
   "execution_count": 100,
   "metadata": {
    "execution": {
     "iopub.execute_input": "2021-09-02T14:08:45.808477Z",
     "iopub.status.busy": "2021-09-02T14:08:45.807870Z",
     "iopub.status.idle": "2021-09-02T14:08:45.810898Z",
     "shell.execute_reply": "2021-09-02T14:08:45.811398Z"
    }
   },
   "outputs": [],
   "source": [
    "def my_sum(x):\n",
    "    sumA = 0\n",
    "    for i in range(0, len(x)):\n",
    "        sumA= sumA + x[i]\n",
    "    return sumA"
   ]
  },
  {
   "cell_type": "code",
   "execution_count": 101,
   "metadata": {
    "execution": {
     "iopub.execute_input": "2021-09-02T14:08:45.826343Z",
     "iopub.status.busy": "2021-09-02T14:08:45.825731Z",
     "iopub.status.idle": "2021-09-02T14:08:45.842581Z",
     "shell.execute_reply": "2021-09-02T14:08:45.842076Z"
    },
    "tags": [
     "pybryt"
    ]
   },
   "outputs": [
    {
     "name": "stdout",
     "output_type": "stream",
     "text": [
      "REFERENCE: exercise-1_15\n",
      "SATISFIED: False\n",
      "MESSAGES:\n",
      "  - SUCCESS: Great! In each iteration, you are adding a list element to the sum variable.\n",
      "  - ERROR: You are not iterating over the list elements.\n",
      "  - SUCCESS: Before the loop, you set the sum to be zero. Well done!\n",
      "  - SUCCESS: Your function returns the correct solution.\n"
     ]
    }
   ],
   "source": [
    "with pybryt.check(pybryt_reference(1, 15)):\n",
    "    my_sum([2.1, 98, -451, 273, 1111, 23.98])"
   ]
  },
  {
   "cell_type": "code",
   "execution_count": 102,
   "metadata": {
    "execution": {
     "iopub.execute_input": "2021-09-02T14:08:45.849439Z",
     "iopub.status.busy": "2021-09-02T14:08:45.848827Z",
     "iopub.status.idle": "2021-09-02T14:08:45.876568Z",
     "shell.execute_reply": "2021-09-02T14:08:45.875819Z"
    },
    "tags": [
     "okpy"
    ]
   },
   "outputs": [
    {
     "name": "stdout",
     "output_type": "stream",
     "text": [
      "~~~~~~~~~~~~~~~~~~~~~~~~~~~~~~~~~~~~~~~~~~~~~~~~~~~~~~~~~~~~~~~~~~~~~\n",
      "Running tests\n",
      "\n",
      "---------------------------------------------------------------------\n",
      "Test summary\n",
      "    Passed: 3\n",
      "    Failed: 0\n",
      "[ooooooooook] 100.0% passed\n",
      "\n"
     ]
    },
    {
     "data": {
      "text/plain": [
       "{'passed': 3, 'failed': 0, 'locked': 0}"
      ]
     },
     "execution_count": 102,
     "metadata": {},
     "output_type": "execute_result"
    }
   ],
   "source": [
    "ok.grade('exercise-1_15')"
   ]
  },
  {
   "cell_type": "markdown",
   "metadata": {},
   "source": [
    "## Exercise 1.16: Position of the ball in a vertical motion.\n",
    "\n",
    "Write a function `distance` that returns a `list` of $y$ values calculated using the formula:\n",
    "\n",
    "$$y(t) = v_0t − {1\\over2} gt^2,$$\n",
    "\n",
    "for `n` number of values $t$ ranging from `t_start` to `t_end`. Specify the keyword arguments `v0=6.0` and `g=9.81`."
   ]
  },
  {
   "cell_type": "code",
   "execution_count": 106,
   "metadata": {
    "execution": {
     "iopub.execute_input": "2021-09-02T14:08:45.888817Z",
     "iopub.status.busy": "2021-09-02T14:08:45.888229Z",
     "iopub.status.idle": "2021-09-02T14:08:45.891627Z",
     "shell.execute_reply": "2021-09-02T14:08:45.892160Z"
    }
   },
   "outputs": [],
   "source": [
    "def distance(t_start, t_end, n, v0=6.0, g=9.81):\n",
    "    listA = []\n",
    "    for i in range(1, n+1):\n",
    "        ti = t_start + (((t_end - t_start) / (n+1)) * i)\n",
    "        t = ti - t_start\n",
    "        yt = v0 * t + 1/2 * (g * t**2)\n",
    "        listA.append(yt)\n",
    "    return listA"
   ]
  },
  {
   "cell_type": "code",
   "execution_count": 107,
   "metadata": {
    "execution": {
     "iopub.execute_input": "2021-09-02T14:08:45.902811Z",
     "iopub.status.busy": "2021-09-02T14:08:45.902242Z",
     "iopub.status.idle": "2021-09-02T14:08:45.920723Z",
     "shell.execute_reply": "2021-09-02T14:08:45.920194Z"
    },
    "tags": [
     "pybryt"
    ]
   },
   "outputs": [
    {
     "name": "stdout",
     "output_type": "stream",
     "text": [
      "REFERENCE: exercise-1_16\n",
      "SATISFIED: False\n",
      "MESSAGES:\n",
      "  - ERROR: Hmmm... You are not iterating over the correct values of t.\n",
      "  - ERROR: You are not appending the positions to a list.\n",
      "  - SUCCESS: Before the loop, you start with an empty list. Amazing!\n",
      "  - ERROR: Your time step value is wrong.\n",
      "  - ERROR: Your function returns a wrong solution.\n"
     ]
    }
   ],
   "source": [
    "with pybryt.check(pybryt_reference(1, 16)):\n",
    "    distance(0, 10, 5)"
   ]
  },
  {
   "cell_type": "code",
   "execution_count": 108,
   "metadata": {
    "execution": {
     "iopub.execute_input": "2021-09-02T14:08:45.924904Z",
     "iopub.status.busy": "2021-09-02T14:08:45.924330Z",
     "iopub.status.idle": "2021-09-02T14:08:45.955195Z",
     "shell.execute_reply": "2021-09-02T14:08:45.954253Z"
    },
    "tags": [
     "okpy"
    ]
   },
   "outputs": [
    {
     "name": "stdout",
     "output_type": "stream",
     "text": [
      "~~~~~~~~~~~~~~~~~~~~~~~~~~~~~~~~~~~~~~~~~~~~~~~~~~~~~~~~~~~~~~~~~~~~~\n",
      "Running tests\n",
      "\n",
      "---------------------------------------------------------------------\n",
      "question 1.16 > Suite 2 > Case 1\n",
      "\n",
      "import numpy as np\n",
      ">>> np.allclose(distance(0.1, 0.6, 6), [0.55095, 1.0038, 1.3585500000000001, 1.6152000000000002, 1.77375, 1.8341999999999996])\n",
      "False\n",
      "\n",
      "# Error: expected\n",
      "#     True\n",
      "# but got\n",
      "#     False\n",
      "\n",
      "Run only this test case with \"python3 ok -q exercise-1_16 --suite 2 --case 1\"\n",
      "---------------------------------------------------------------------\n",
      "Test summary\n",
      "    Passed: 1\n",
      "    Failed: 1\n",
      "[oooook.....] 50.0% passed\n",
      "\n"
     ]
    },
    {
     "data": {
      "text/plain": [
       "{'passed': 1, 'failed': 1, 'locked': 0}"
      ]
     },
     "execution_count": 108,
     "metadata": {},
     "output_type": "execute_result"
    }
   ],
   "source": [
    "ok.grade('exercise-1_16')"
   ]
  },
  {
   "cell_type": "markdown",
   "metadata": {},
   "source": [
    "## Exercise 1.17: Cumulative sum\n",
    "\n",
    "Write a function that returns the cumulative sum of the numbers in a list. The function should return a list, whose `i`-th element is the sum of the input list up to and including the `i`-th element.\n",
    "\n",
    "For example, for the list `[1, 4, 2, 5, 3]` should return `[1, 5, 7, 12, 15]`."
   ]
  },
  {
   "cell_type": "code",
   "execution_count": 109,
   "metadata": {
    "execution": {
     "iopub.execute_input": "2021-09-02T14:08:45.967825Z",
     "iopub.status.busy": "2021-09-02T14:08:45.966604Z",
     "iopub.status.idle": "2021-09-02T14:08:45.970287Z",
     "shell.execute_reply": "2021-09-02T14:08:45.969767Z"
    }
   },
   "outputs": [],
   "source": [
    "def my_cumsum(x):\n",
    "    for i in range(1,len(x)):\n",
    "        x[i] += x[i-1]\n",
    "    return x"
   ]
  },
  {
   "cell_type": "code",
   "execution_count": 110,
   "metadata": {
    "execution": {
     "iopub.execute_input": "2021-09-02T14:08:45.980932Z",
     "iopub.status.busy": "2021-09-02T14:08:45.980288Z",
     "iopub.status.idle": "2021-09-02T14:08:45.998282Z",
     "shell.execute_reply": "2021-09-02T14:08:45.997786Z"
    },
    "tags": [
     "pybryt"
    ]
   },
   "outputs": [
    {
     "name": "stdout",
     "output_type": "stream",
     "text": [
      "REFERENCE: exercise-1_17\n",
      "SATISFIED: False\n",
      "MESSAGES:\n",
      "  - ERROR: You are not appending the correct cumulative sum to a list.\n",
      "  - ERROR: Think about starting with an empty list before the loop.\n",
      "  - SUCCESS: Wow! Your function returns the correct solution.\n"
     ]
    }
   ],
   "source": [
    "with pybryt.check(pybryt_reference(1, 17)):\n",
    "    my_cumsum([55, 111, -33, 65])"
   ]
  },
  {
   "cell_type": "code",
   "execution_count": 111,
   "metadata": {
    "execution": {
     "iopub.execute_input": "2021-09-02T14:08:46.004918Z",
     "iopub.status.busy": "2021-09-02T14:08:46.004334Z",
     "iopub.status.idle": "2021-09-02T14:08:46.026212Z",
     "shell.execute_reply": "2021-09-02T14:08:46.024941Z"
    },
    "tags": [
     "okpy"
    ]
   },
   "outputs": [
    {
     "name": "stdout",
     "output_type": "stream",
     "text": [
      "~~~~~~~~~~~~~~~~~~~~~~~~~~~~~~~~~~~~~~~~~~~~~~~~~~~~~~~~~~~~~~~~~~~~~\n",
      "Running tests\n",
      "\n",
      "---------------------------------------------------------------------\n",
      "Test summary\n",
      "    Passed: 2\n",
      "    Failed: 0\n",
      "[ooooooooook] 100.0% passed\n",
      "\n"
     ]
    },
    {
     "data": {
      "text/plain": [
       "{'passed': 2, 'failed': 0, 'locked': 0}"
      ]
     },
     "execution_count": 111,
     "metadata": {},
     "output_type": "execute_result"
    }
   ],
   "source": [
    "ok.grade('exercise-1_17')"
   ]
  },
  {
   "cell_type": "markdown",
   "metadata": {},
   "source": [
    "## Exercise 1.18: Bouncing ball\n",
    "\n",
    "A rubber ball is dropped from a height `h_0`. After each bounce, the height it rebounds to decreases by 10%, i.e. after one bounce, it reaches `0.9*h_0`, after two bounces it reaches `0.9*0.9*h_0`, etc. Write a Python function `compute_heights` that returns a list of the maximum heights of the ball after each bounce (including after 0 bounces, i.e. its initial height), until either the ball has bounced `n` times *or* its maximum height falls below `h1`. The function should take `h_0`, `h_1` and `n` as keyword arguments, with default values of `1.0`, `0.3` and `10`, respectively.\n",
    "\n",
    "**HINT:** If `n` bounces of the ball are not reached, the last value of height in the list should be the first height at which the ball fell below `h1`. More precisely, the last value is less than `h1`."
   ]
  },
  {
   "cell_type": "code",
   "execution_count": 131,
   "metadata": {
    "execution": {
     "iopub.execute_input": "2021-09-02T14:08:46.039313Z",
     "iopub.status.busy": "2021-09-02T14:08:46.038749Z",
     "iopub.status.idle": "2021-09-02T14:08:46.041994Z",
     "shell.execute_reply": "2021-09-02T14:08:46.042430Z"
    }
   },
   "outputs": [],
   "source": [
    "# Uncomment and complete this code - keep the names the same for testing purposes.\n",
    "\n",
    "def compute_heights(h_0=1.0, h_1=0.3, n=10):\n",
    "    listA = []\n",
    "    for i in range(0,n+1):\n",
    "        listA.append(h_0)\n",
    "        h_0 = h_0 * 0.9\n",
    "        if h_0 < h_1:\n",
    "            listA.append(h_0)\n",
    "            break\n",
    "    return listA"
   ]
  },
  {
   "cell_type": "code",
   "execution_count": 132,
   "metadata": {
    "execution": {
     "iopub.execute_input": "2021-09-02T14:08:46.053752Z",
     "iopub.status.busy": "2021-09-02T14:08:46.053191Z",
     "iopub.status.idle": "2021-09-02T14:08:46.086423Z",
     "shell.execute_reply": "2021-09-02T14:08:46.085911Z"
    },
    "tags": [
     "pybryt"
    ]
   },
   "outputs": [
    {
     "name": "stdout",
     "output_type": "stream",
     "text": [
      "REFERENCE: exercise-1_18\n",
      "SATISFIED: False\n",
      "MESSAGES:\n",
      "  - SUCCESS: You are appending the correct height to a list. Well done!\n",
      "  - ERROR: You are not counting the bounces correctly.\n",
      "  - SUCCESS: Before the loop, you start with an empty list. Amazing!\n",
      "  - SUCCESS: Before the loop, you set the ounter to zero. Great!\n",
      "  - SUCCESS: Wow! Your function returns the correct solution.\n"
     ]
    }
   ],
   "source": [
    "with pybryt.check(pybryt_reference(1, 18)):\n",
    "    compute_heights(h_0=1.0, h_1=0.3, n=10)"
   ]
  },
  {
   "cell_type": "code",
   "execution_count": 133,
   "metadata": {
    "execution": {
     "iopub.execute_input": "2021-09-02T14:08:46.090347Z",
     "iopub.status.busy": "2021-09-02T14:08:46.089785Z",
     "iopub.status.idle": "2021-09-02T14:08:46.121002Z",
     "shell.execute_reply": "2021-09-02T14:08:46.120392Z"
    },
    "tags": [
     "okpy"
    ]
   },
   "outputs": [
    {
     "name": "stdout",
     "output_type": "stream",
     "text": [
      "~~~~~~~~~~~~~~~~~~~~~~~~~~~~~~~~~~~~~~~~~~~~~~~~~~~~~~~~~~~~~~~~~~~~~\n",
      "Running tests\n",
      "\n",
      "---------------------------------------------------------------------\n",
      "Test summary\n",
      "    Passed: 4\n",
      "    Failed: 0\n",
      "[ooooooooook] 100.0% passed\n",
      "\n"
     ]
    },
    {
     "data": {
      "text/plain": [
       "{'passed': 4, 'failed': 0, 'locked': 0}"
      ]
     },
     "execution_count": 133,
     "metadata": {},
     "output_type": "execute_result"
    }
   ],
   "source": [
    "ok.grade('exercise-1_18')"
   ]
  },
  {
   "cell_type": "markdown",
   "metadata": {},
   "source": [
    "## Exercise 1.19: Calculate $\\pi$\n",
    "\n",
    "A formula for $\\pi$ is given by the *Gregory-Leibniz series*:\n",
    "\n",
    "$$\\pi = 4 \\left(\\frac{1}{1} - \\frac{1}{3} + \\frac{1}{5} - \\frac{1}{7} + \\frac{1}{9} + ...  \\right)$$\n",
    "\n",
    "Note that the denominators of the terms in this series are the positive odd numbers. Write a Python function `calculate_pi(n)` following the guidelines below; each of the first three steps can be completed using a single list comprehension.\n",
    "\n",
    "**Step 1**:\n",
    "\n",
    "Produce a list of the first `n` odd numbers, for `n=100`.\n",
    "\n",
    "**Step 2**:\n",
    "\n",
    "Make a list of the signs of each term, i.e. `[1, -1, 1, -1, ...]`. Hint: think about the value of $(-1)^i$ for integer $i$.\n",
    "\n",
    "**Step 3**:\n",
    "\n",
    "Using the results of steps 1 and 2, make a list of the first `n` terms in the above series.\n",
    "\n",
    "**Step 4**:\n",
    "\n",
    "Use your `my_sum` function to sum this series, multiply by 4, and return the result."
   ]
  },
  {
   "cell_type": "code",
   "execution_count": null,
   "metadata": {
    "execution": {
     "iopub.execute_input": "2021-09-02T14:08:46.133896Z",
     "iopub.status.busy": "2021-09-02T14:08:46.133313Z",
     "iopub.status.idle": "2021-09-02T14:08:46.138615Z",
     "shell.execute_reply": "2021-09-02T14:08:46.139065Z"
    },
    "tags": []
   },
   "outputs": [],
   "source": [
    "def my_sum(listC):\n",
    "    total = 0\n",
    "    for i in range(0, len(listC)):\n",
    "        total += listC[i]\n",
    "    total = total * 4\n",
    "    return total\n",
    "\n",
    "\n",
    "def calculate_pi(n):\n",
    "    listA = []\n",
    "    listB = []\n",
    "    listC = []\n",
    "    for i in range(0, 2 * n):\n",
    "        if i % 2 == 1:\n",
    "            listA.append(i)\n",
    "    for i in range(0, n):\n",
    "        item = (-1) ** (i + 2)\n",
    "        listB.append(item)\n",
    "    print(len(listA))\n",
    "    print(len(listB))\n",
    "    for i in range(0, n):\n",
    "        listC.append(listB[i] / listA[i])\n",
    "    print(listC)\n",
    "    my_sum(listC)  \n",
    "    \n",
    "            "
   ]
  },
  {
   "cell_type": "code",
   "execution_count": null,
   "metadata": {
    "execution": {
     "iopub.execute_input": "2021-09-02T14:08:46.150371Z",
     "iopub.status.busy": "2021-09-02T14:08:46.149810Z",
     "iopub.status.idle": "2021-09-02T14:08:46.214793Z",
     "shell.execute_reply": "2021-09-02T14:08:46.214280Z"
    },
    "tags": [
     "pybryt"
    ]
   },
   "outputs": [],
   "source": [
    "with pybryt.check(pybryt_reference(1, 19)):\n",
    "    calculate_pi(100)"
   ]
  },
  {
   "cell_type": "code",
   "execution_count": null,
   "metadata": {
    "execution": {
     "iopub.execute_input": "2021-09-02T14:08:46.222014Z",
     "iopub.status.busy": "2021-09-02T14:08:46.221446Z",
     "iopub.status.idle": "2021-09-02T14:08:46.251001Z",
     "shell.execute_reply": "2021-09-02T14:08:46.250478Z"
    },
    "tags": [
     "okpy"
    ]
   },
   "outputs": [],
   "source": [
    "ok.grade('exercise-1_19')"
   ]
  },
  {
   "cell_type": "code",
   "execution_count": null,
   "metadata": {
    "execution": {
     "iopub.execute_input": "2021-09-02T14:08:46.265065Z",
     "iopub.status.busy": "2021-09-02T14:08:46.264501Z",
     "iopub.status.idle": "2021-09-02T14:08:46.584641Z",
     "shell.execute_reply": "2021-09-02T14:08:46.551723Z"
    },
    "tags": [
     "okpy"
    ]
   },
   "outputs": [],
   "source": [
    "ok.score()"
   ]
  },
  {
   "cell_type": "code",
   "execution_count": null,
   "metadata": {},
   "outputs": [],
   "source": []
  }
 ],
 "metadata": {
  "celltoolbar": "Tags",
  "kernelspec": {
   "display_name": "Python 3",
   "language": "python",
   "name": "python3"
  },
  "language_info": {
   "codemirror_mode": {
    "name": "ipython",
    "version": 3
   },
   "file_extension": ".py",
   "mimetype": "text/x-python",
   "name": "python",
   "nbconvert_exporter": "python",
   "pygments_lexer": "ipython3",
   "version": "3.8.10"
  },
  "metadata": {
   "interpreter": {
    "hash": "09160679218cef01ff15815045f22f73847c787608cecc83e75aba7b6298eccd"
   }
  }
 },
 "nbformat": 4,
 "nbformat_minor": 4
}
